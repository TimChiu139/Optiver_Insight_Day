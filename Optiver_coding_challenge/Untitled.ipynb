{
 "cells": [
  {
   "cell_type": "code",
   "execution_count": 1,
   "id": "f2a6dcdc-f6c2-4c36-b36d-e968e24e379f",
   "metadata": {},
   "outputs": [
    {
     "name": "stdout",
     "output_type": "stream",
     "text": [
      "hi\n"
     ]
    }
   ],
   "source": [
    "print(\"hi\")"
   ]
  },
  {
   "cell_type": "code",
   "execution_count": null,
   "id": "a973cd08-b452-4f92-a2a2-8b8a01f7282f",
   "metadata": {},
   "outputs": [],
   "source": [
    "while True:\n",
    "    ask_price_b = exchange.get_last_price_book(stock_b_id).asks[0].price\n",
    "    bid_price_a = exchange.get_last_price_book(stock_a_id).bids[0].price\n",
    "\n",
    "    bid_volume_a = exchange.get_last_price_book(stock_a_id).bids[0].volume\n",
    "    ask_volume_b = exchange.get_last_price_book(stock_b_id).asks[0].volume\n",
    "    \n",
    "    \n",
    "    if ask_price_b < bid_price_a and exchange.get_position()[stock_a_id] > 100:\n",
    "        ## ask_b < bid_a\n",
    "        ## sell A, buy B\n",
    "        min_vol = min(bid_volume_a, ask_volume_b, 50)\n",
    "        exchange.insert_order(stock_a_id, price=bid_price_a, volume=min_vol, side='ask', order_type='ioc')\n",
    "        exchange.insert_order(stock_b_id, price=ask_price_b, volume=min_vol, side='bid', order_type='ioc')\n",
    "\n",
    "        \n",
    "    ask_price_a = exchange.get_last_price_book(stock_a_id).asks[0].price\n",
    "    bid_price_b = exchange.get_last_price_book(stock_b_id).bids[0].price\n",
    "        \n",
    "    ask_volume_a = exchange.get_last_price_book(stock_a_id).asks[0].volume\n",
    "    bid_volume_b = exchange.get_last_price_book(stock_b_id).bids[0].volume\n",
    "    \n",
    "    if ask_price_a < bid_price_b and exchange.get_position()[stock_a_id] < -100:\n",
    "        ## ask_a < bid_b\n",
    "        ## buy A, sell B\n",
    "        min_vol = min(bid_volume_b, ask_volume_a, 50)\n",
    "        exchange.insert_order(stock_a_id, price=bid_price_b, volume=min_vol, side='ask', order_type='ioc')\n",
    "        exchange.insert_order(stock_b_id, price=ask_price_a, volume=min_vol, side='bid', order_type='ioc')"
   ]
  }
 ],
 "metadata": {
  "kernelspec": {
   "display_name": "Python 3",
   "language": "python",
   "name": "python3"
  },
  "language_info": {
   "codemirror_mode": {
    "name": "ipython",
    "version": 3
   },
   "file_extension": ".py",
   "mimetype": "text/x-python",
   "name": "python",
   "nbconvert_exporter": "python",
   "pygments_lexer": "ipython3",
   "version": "3.6.12"
  }
 },
 "nbformat": 4,
 "nbformat_minor": 5
}
