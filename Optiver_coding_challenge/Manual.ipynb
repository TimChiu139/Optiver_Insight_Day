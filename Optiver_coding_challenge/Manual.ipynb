{
 "cells": [
  {
   "cell_type": "markdown",
   "id": "93acf2f5-b609-454f-9f2c-6bcb30177087",
   "metadata": {},
   "source": [
    "# Setup"
   ]
  },
  {
   "cell_type": "code",
   "execution_count": 69,
   "id": "d8747b3f-8905-4336-9c4a-54744a8f40ba",
   "metadata": {},
   "outputs": [
    {
     "name": "stdout",
     "output_type": "stream",
     "text": [
      "Setup was successful.\n"
     ]
    }
   ],
   "source": [
    "from optibook.synchronous_client import Exchange\n",
    "\n",
    "import time\n",
    "import logging\n",
    "logger = logging.getLogger('client')\n",
    "logger.setLevel('ERROR')\n",
    "\n",
    "print(\"Setup was successful.\")"
   ]
  },
  {
   "cell_type": "markdown",
   "id": "9ddb57ce-ac0e-4c06-b163-762452401011",
   "metadata": {},
   "source": [
    "# Connecting to the Exchange"
   ]
  },
  {
   "cell_type": "code",
   "execution_count": 98,
   "id": "13dc8598-1e49-487c-ad39-3784eb7f7fa7",
   "metadata": {},
   "outputs": [
    {
     "name": "stderr",
     "output_type": "stream",
     "text": [
      "2023-04-05 14:18:18,355 [asyncio   ] [MainThread  ] Using selector: EpollSelector\n"
     ]
    }
   ],
   "source": [
    "exchange = Exchange()\n",
    "_ = exchange.connect()"
   ]
  },
  {
   "cell_type": "markdown",
   "id": "a403468f-0c55-48b1-834f-b806b34d3453",
   "metadata": {},
   "source": [
    "# Getting market information"
   ]
  },
  {
   "cell_type": "code",
   "execution_count": 71,
   "id": "a5bcb60e-8db1-458d-a7c9-cf17cc24bf3b",
   "metadata": {},
   "outputs": [
    {
     "data": {
      "text/plain": [
       "{'PHILIPS_B': Instrument(instrument_id=PHILIPS_B, tick_size=0.1, price_change_limit=PriceChangeLimit(absolute_change=5.0000, relative_change=10.00%), instrument_type=InstrumentType.STOCK, paused=False),\n",
       " 'PHILIPS_A': Instrument(instrument_id=PHILIPS_A, tick_size=0.1, price_change_limit=PriceChangeLimit(absolute_change=5.0000, relative_change=10.00%), instrument_type=InstrumentType.STOCK, paused=False)}"
      ]
     },
     "execution_count": 71,
     "metadata": {},
     "output_type": "execute_result"
    }
   ],
   "source": [
    "# Load all instruments (products) available on the exchange\n",
    "instruments = exchange.get_instruments()\n",
    "instruments"
   ]
  },
  {
   "cell_type": "code",
   "execution_count": 90,
   "id": "f1367f99-f94c-4554-9a26-6d79f13c10a6",
   "metadata": {},
   "outputs": [],
   "source": [
    "# Define a variable storing the instrument_id of the product we are interested in\n",
    "instrument_id = 'PHILIPS_A'"
   ]
  },
  {
   "cell_type": "markdown",
   "id": "b7285ae2-e965-47b5-bbc1-1faed44fdba5",
   "metadata": {},
   "source": [
    "### Order Book"
   ]
  },
  {
   "cell_type": "code",
   "execution_count": 78,
   "id": "ceec3a13-2e1f-4413-8b3b-3bbeb023e85a",
   "metadata": {},
   "outputs": [
    {
     "data": {
      "text/plain": [
       "PriceBook(PHILIPS_A 2023-04-05 13:05:08.509762)\n",
       " #bids | price | #asks \n",
       "       |  99.9 | 10000 \n",
       "       |  94.4 |  250  \n",
       "       |  93.8 |  410  \n",
       "   10  |  93.7 |       \n",
       "  250  |  93.6 |       \n",
       "  400  |  93.2 |       \n",
       " 10000 |  87.6 |       "
      ]
     },
     "execution_count": 78,
     "metadata": {},
     "output_type": "execute_result"
    }
   ],
   "source": [
    "# Load current limit order book for the instrument\n",
    "exchange.get_last_price_book(instrument_id)"
   ]
  },
  {
   "cell_type": "markdown",
   "id": "9274cb67-b70b-43d3-9071-06f8de8a4c16",
   "metadata": {},
   "source": [
    "### Public tradeticks"
   ]
  },
  {
   "cell_type": "code",
   "execution_count": 79,
   "id": "5eef657b-3e85-4bd4-aafc-06dad3a3ae5b",
   "metadata": {},
   "outputs": [
    {
     "data": {
      "text/plain": [
       "[TradeTick(timestamp=2023-04-05 13:04:52.017961, instrument_id=PHILIPS_A, price=93.80000000000001, volume=20, aggressor_side=bid, buyer=, seller=, trade_id=8680),\n",
       " TradeTick(timestamp=2023-04-05 13:04:52.054917, instrument_id=PHILIPS_A, price=93.80000000000001, volume=20, aggressor_side=bid, buyer=, seller=, trade_id=8682),\n",
       " TradeTick(timestamp=2023-04-05 13:04:52.073978, instrument_id=PHILIPS_A, price=93.80000000000001, volume=20, aggressor_side=bid, buyer=, seller=, trade_id=8684),\n",
       " TradeTick(timestamp=2023-04-05 13:04:54.972794, instrument_id=PHILIPS_A, price=93.80000000000001, volume=10, aggressor_side=bid, buyer=, seller=, trade_id=8688),\n",
       " TradeTick(timestamp=2023-04-05 13:05:08.541397, instrument_id=PHILIPS_A, price=93.80000000000001, volume=5, aggressor_side=bid, buyer=, seller=, trade_id=8697)]"
      ]
     },
     "execution_count": 79,
     "metadata": {},
     "output_type": "execute_result"
    }
   ],
   "source": [
    "# Load and store a list of all public tradeticks since the instantiation of the Exchange (upto a max limit)\n",
    "# These are trades between any participant, you may or may not have participated in these\n",
    "trade_tick_history = exchange.get_trade_tick_history(instrument_id)\n",
    "\n",
    "# Display last 5\n",
    "trade_tick_history[-5:]"
   ]
  },
  {
   "cell_type": "code",
   "execution_count": 80,
   "id": "99f5730b-b23c-4adf-a88f-c1394ab03aa0",
   "metadata": {},
   "outputs": [
    {
     "data": {
      "text/plain": [
       "[TradeTick(timestamp=2023-04-05 13:04:45.982588, instrument_id=PHILIPS_A, price=93.80000000000001, volume=20, aggressor_side=bid, buyer=, seller=, trade_id=8634),\n",
       " TradeTick(timestamp=2023-04-05 13:04:46.060540, instrument_id=PHILIPS_A, price=93.80000000000001, volume=20, aggressor_side=bid, buyer=, seller=, trade_id=8636),\n",
       " TradeTick(timestamp=2023-04-05 13:04:46.136236, instrument_id=PHILIPS_A, price=93.80000000000001, volume=20, aggressor_side=bid, buyer=, seller=, trade_id=8638),\n",
       " TradeTick(timestamp=2023-04-05 13:04:46.206755, instrument_id=PHILIPS_A, price=93.80000000000001, volume=20, aggressor_side=bid, buyer=, seller=, trade_id=8640),\n",
       " TradeTick(timestamp=2023-04-05 13:04:46.306551, instrument_id=PHILIPS_A, price=93.80000000000001, volume=20, aggressor_side=bid, buyer=, seller=, trade_id=8642),\n",
       " TradeTick(timestamp=2023-04-05 13:04:46.370461, instrument_id=PHILIPS_A, price=93.80000000000001, volume=20, aggressor_side=bid, buyer=, seller=, trade_id=8644),\n",
       " TradeTick(timestamp=2023-04-05 13:04:46.530636, instrument_id=PHILIPS_A, price=93.80000000000001, volume=20, aggressor_side=bid, buyer=, seller=, trade_id=8646),\n",
       " TradeTick(timestamp=2023-04-05 13:04:46.550962, instrument_id=PHILIPS_A, price=93.80000000000001, volume=20, aggressor_side=bid, buyer=, seller=, trade_id=8648),\n",
       " TradeTick(timestamp=2023-04-05 13:04:47.935002, instrument_id=PHILIPS_A, price=93.60000000000001, volume=10, aggressor_side=ask, buyer=, seller=, trade_id=8653),\n",
       " TradeTick(timestamp=2023-04-05 13:04:48.526015, instrument_id=PHILIPS_A, price=93.60000000000001, volume=10, aggressor_side=bid, buyer=, seller=, trade_id=8655),\n",
       " TradeTick(timestamp=2023-04-05 13:04:48.602908, instrument_id=PHILIPS_A, price=93.7, volume=20, aggressor_side=ask, buyer=, seller=, trade_id=8656),\n",
       " TradeTick(timestamp=2023-04-05 13:04:48.626335, instrument_id=PHILIPS_A, price=93.7, volume=20, aggressor_side=ask, buyer=, seller=, trade_id=8658),\n",
       " TradeTick(timestamp=2023-04-05 13:04:48.662002, instrument_id=PHILIPS_A, price=93.7, volume=10, aggressor_side=ask, buyer=, seller=, trade_id=8660),\n",
       " TradeTick(timestamp=2023-04-05 13:04:48.698157, instrument_id=PHILIPS_A, price=93.7, volume=20, aggressor_side=ask, buyer=, seller=, trade_id=8661),\n",
       " TradeTick(timestamp=2023-04-05 13:04:48.766844, instrument_id=PHILIPS_A, price=93.7, volume=20, aggressor_side=ask, buyer=, seller=, trade_id=8663),\n",
       " TradeTick(timestamp=2023-04-05 13:04:48.830351, instrument_id=PHILIPS_A, price=93.7, volume=20, aggressor_side=ask, buyer=, seller=, trade_id=8665),\n",
       " TradeTick(timestamp=2023-04-05 13:04:48.898167, instrument_id=PHILIPS_A, price=93.7, volume=20, aggressor_side=ask, buyer=, seller=, trade_id=8667),\n",
       " TradeTick(timestamp=2023-04-05 13:04:48.962382, instrument_id=PHILIPS_A, price=93.7, volume=20, aggressor_side=ask, buyer=, seller=, trade_id=8669),\n",
       " TradeTick(timestamp=2023-04-05 13:04:51.787003, instrument_id=PHILIPS_A, price=93.80000000000001, volume=20, aggressor_side=bid, buyer=, seller=, trade_id=8672),\n",
       " TradeTick(timestamp=2023-04-05 13:04:51.848819, instrument_id=PHILIPS_A, price=93.80000000000001, volume=20, aggressor_side=bid, buyer=, seller=, trade_id=8674),\n",
       " TradeTick(timestamp=2023-04-05 13:04:51.879093, instrument_id=PHILIPS_A, price=93.80000000000001, volume=20, aggressor_side=bid, buyer=, seller=, trade_id=8676),\n",
       " TradeTick(timestamp=2023-04-05 13:04:51.998110, instrument_id=PHILIPS_A, price=93.80000000000001, volume=20, aggressor_side=bid, buyer=, seller=, trade_id=8678),\n",
       " TradeTick(timestamp=2023-04-05 13:04:52.017961, instrument_id=PHILIPS_A, price=93.80000000000001, volume=20, aggressor_side=bid, buyer=, seller=, trade_id=8680),\n",
       " TradeTick(timestamp=2023-04-05 13:04:52.054917, instrument_id=PHILIPS_A, price=93.80000000000001, volume=20, aggressor_side=bid, buyer=, seller=, trade_id=8682),\n",
       " TradeTick(timestamp=2023-04-05 13:04:52.073978, instrument_id=PHILIPS_A, price=93.80000000000001, volume=20, aggressor_side=bid, buyer=, seller=, trade_id=8684),\n",
       " TradeTick(timestamp=2023-04-05 13:04:54.972794, instrument_id=PHILIPS_A, price=93.80000000000001, volume=10, aggressor_side=bid, buyer=, seller=, trade_id=8688),\n",
       " TradeTick(timestamp=2023-04-05 13:05:08.541397, instrument_id=PHILIPS_A, price=93.80000000000001, volume=5, aggressor_side=bid, buyer=, seller=, trade_id=8697),\n",
       " TradeTick(timestamp=2023-04-05 13:05:09.622915, instrument_id=PHILIPS_A, price=93.7, volume=1, aggressor_side=ask, buyer=, seller=, trade_id=8698)]"
      ]
     },
     "execution_count": 80,
     "metadata": {},
     "output_type": "execute_result"
    }
   ],
   "source": [
    "# Poll all public tradeticks since the last time this method was called\n",
    "exchange.poll_new_trade_ticks(instrument_id)"
   ]
  },
  {
   "cell_type": "markdown",
   "id": "5419b543-5cc1-4bb0-9df2-af7684ccd0b1",
   "metadata": {},
   "source": [
    "### Private trades"
   ]
  },
  {
   "cell_type": "code",
   "execution_count": 81,
   "id": "5dd35c7d-c2b0-48d7-93a8-0efeebb8b093",
   "metadata": {},
   "outputs": [
    {
     "data": {
      "text/plain": [
       "[]"
      ]
     },
     "execution_count": 81,
     "metadata": {},
     "output_type": "execute_result"
    }
   ],
   "source": [
    "# Load and store a list of all private trades you participated in since the instantiation of the Exchange (upto a max limit)\n",
    "trade_history = exchange.get_trade_history('PHILIPS_A')\n",
    "\n",
    "# Display last 5\n",
    "trade_history[-5:]"
   ]
  },
  {
   "cell_type": "code",
   "execution_count": 82,
   "id": "905cbd32-379b-4a01-aa63-7550b61fde58",
   "metadata": {},
   "outputs": [
    {
     "data": {
      "text/plain": [
       "[]"
      ]
     },
     "execution_count": 82,
     "metadata": {},
     "output_type": "execute_result"
    },
    {
     "name": "stderr",
     "output_type": "stream",
     "text": [
      "2023-04-05 13:05:34,853 [client    ] [Thread-8    ] Forcing a disconnect due to an error: Closing connection because someone else logged in with the same credentials. Only one session may be active at the same time.\n"
     ]
    }
   ],
   "source": [
    "# Poll all private trades since the last time this method was called\n",
    "exchange.poll_new_trades(instrument_id)"
   ]
  },
  {
   "cell_type": "markdown",
   "id": "6ee74134-f310-41e8-9de0-aabe458c91f1",
   "metadata": {},
   "source": [
    "### Position & PnL"
   ]
  },
  {
   "cell_type": "code",
   "execution_count": 11,
   "id": "5785926a-331b-4e43-ad16-6489430fdc43",
   "metadata": {},
   "outputs": [
    {
     "data": {
      "text/plain": [
       "{'DEMO': 0, 'TEST': 0, 'MKT1': 0, 'MKT2': 0, 'MKT3': 0}"
      ]
     },
     "execution_count": 11,
     "metadata": {},
     "output_type": "execute_result"
    }
   ],
   "source": [
    "# Load current positions in all instruments\n",
    "exchange.get_positions()"
   ]
  },
  {
   "cell_type": "code",
   "execution_count": 12,
   "id": "1016a928-4f7b-4c00-bb5b-4f5ed830ccc7",
   "metadata": {},
   "outputs": [
    {
     "data": {
      "text/plain": [
       "{'DEMO': {'volume': 0, 'cash': 0.0},\n",
       " 'TEST': {'volume': 0, 'cash': 0.0},\n",
       " 'MKT1': {'volume': 0, 'cash': 0.0},\n",
       " 'MKT2': {'volume': 0, 'cash': 0.0},\n",
       " 'MKT3': {'volume': 0, 'cash': 0.0}}"
      ]
     },
     "execution_count": 12,
     "metadata": {},
     "output_type": "execute_result"
    }
   ],
   "source": [
    "# Load current positions in all instruments, including cash component (how much did we invest or gain by trading each instrument)\n",
    "exchange.get_positions_and_cash()"
   ]
  },
  {
   "cell_type": "code",
   "execution_count": 13,
   "id": "1b9f95bf-d847-47de-bff7-3bb68188409b",
   "metadata": {},
   "outputs": [
    {
     "data": {
      "text/plain": [
       "0.0"
      ]
     },
     "execution_count": 13,
     "metadata": {},
     "output_type": "execute_result"
    }
   ],
   "source": [
    "# Current PnL: sum of all cash components and value of the positions (evaluated against last-traded price) \n",
    "exchange.get_pnl()"
   ]
  },
  {
   "cell_type": "markdown",
   "id": "3a322fbd-e1e3-4e8a-b5a2-8387b7062c44",
   "metadata": {},
   "source": [
    "# Orders"
   ]
  },
  {
   "cell_type": "markdown",
   "id": "ec396b72-70c6-4cf1-8412-4368f6aa9a4c",
   "metadata": {},
   "source": [
    "### Inserting"
   ]
  },
  {
   "cell_type": "code",
   "execution_count": 31,
   "id": "ac9dcb15-b55b-4500-a516-2a4e918397e7",
   "metadata": {},
   "outputs": [
    {
     "data": {
      "text/plain": [
       "InsertOrderResponse(success=True, order_id=104326, error_reason='None')"
      ]
     },
     "execution_count": 31,
     "metadata": {},
     "output_type": "execute_result"
    }
   ],
   "source": [
    "# Insert bid LIMIT order - this trades against any current orders, and any remainders become new resting orders in the book\n",
    "# The returned value is a 'InsertOrderResponse' which, if successfull, contains the order_id of the order\n",
    "exchange.insert_order(instrument_id, price=10, volume=5, side='bid', order_type='limit')"
   ]
  },
  {
   "cell_type": "code",
   "execution_count": 32,
   "id": "cdf2c01e-4de7-4b5d-bad7-f72c3f67dc93",
   "metadata": {},
   "outputs": [
    {
     "data": {
      "text/plain": [
       "InsertOrderResponse(success=True, order_id=104327, error_reason='None')"
      ]
     },
     "execution_count": 32,
     "metadata": {},
     "output_type": "execute_result"
    }
   ],
   "source": [
    "# Insert ask LIMIT order - this trades against any current orders, and any remainders become new resting orders in the book\n",
    "exchange.insert_order(instrument_id, price=20, volume=5, side='ask', order_type='limit')"
   ]
  },
  {
   "cell_type": "code",
   "execution_count": 33,
   "id": "a85e2846-51b2-426f-b5da-f189502a1a44",
   "metadata": {},
   "outputs": [
    {
     "data": {
      "text/plain": [
       "InsertOrderResponse(success=True, order_id=104330, error_reason='None')"
      ]
     },
     "execution_count": 33,
     "metadata": {},
     "output_type": "execute_result"
    }
   ],
   "source": [
    "# Insert bid IOC order - this order trades against any resting volume which has an equal or better price, but does not remain in the \n",
    "# book if any volume is unfilled\n",
    "exchange.insert_order(instrument_id, price=10, volume=5, side='bid', order_type='ioc')"
   ]
  },
  {
   "cell_type": "code",
   "execution_count": null,
   "id": "4ce39bcc-5a61-4c86-9a89-ef2f29d0e4cf",
   "metadata": {},
   "outputs": [],
   "source": [
    "# Insert ask IOC order - this order trades against any resting volume which has an equal or better price, but does not remain in the \n",
    "# book if any volume is unfilled\n",
    "exchange.insert_order(instrument_id, price=20, volume=5, side='ask', order_type='ioc')"
   ]
  },
  {
   "cell_type": "markdown",
   "id": "456c74c9-f7fa-433f-ab60-8288b452c8fd",
   "metadata": {},
   "source": [
    "### Deleting & amending"
   ]
  },
  {
   "cell_type": "code",
   "execution_count": 30,
   "id": "29dfeebc-4f88-41c6-a07b-b94a997d082c",
   "metadata": {},
   "outputs": [
    {
     "data": {
      "text/plain": [
       "{104295: OrderStatus(order_id=104295, instrument_id=DEMO, price=10.0, volume=5, side=bid)}"
      ]
     },
     "execution_count": 30,
     "metadata": {},
     "output_type": "execute_result"
    }
   ],
   "source": [
    "# Load a list of own outstanding/resting orders\n",
    "exchange.get_outstanding_orders(instrument_id)"
   ]
  },
  {
   "cell_type": "code",
   "execution_count": null,
   "id": "da5df034-dc73-42d3-b0ba-c113e8a3f6f7",
   "metadata": {},
   "outputs": [],
   "source": [
    "# Delete an order by order_id, the returned DeleteOrderRequest contains a boolean showing whether the delete was succesful\n",
    "exchange.delete_order(instrument_id, order_id=1234)"
   ]
  },
  {
   "cell_type": "code",
   "execution_count": null,
   "id": "cca548dd-9f1b-4e1b-99c4-04efbd4d289a",
   "metadata": {},
   "outputs": [],
   "source": [
    "# Delete all outstanding orders for an instrument\n",
    "exchange.delete_orders(instrument_id)"
   ]
  },
  {
   "cell_type": "code",
   "execution_count": null,
   "id": "c2b9a407-ab66-49a2-a389-9a79c9819d25",
   "metadata": {},
   "outputs": [],
   "source": [
    "# Change (amend) the volume of an existing resting order by order_id, the returned AmendOrderResponse contains a boolean showing whether the amend was succesful\n",
    "exchange.amend_order(instrument_id, order_id=1234, volume=30)"
   ]
  },
  {
   "cell_type": "markdown",
   "id": "ddebfb30-9fae-4ca8-9834-500558435dfb",
   "metadata": {},
   "source": [
    "# Code Snippets"
   ]
  },
  {
   "cell_type": "markdown",
   "id": "f42a856e-6bff-40a7-ba1f-9596cff5914f",
   "metadata": {},
   "source": [
    "Combining a few of the exchange interactions above, we can write a code snippet to aggressively trade out of all currently held positions using IOC orders. \n",
    "\n",
    "That means selling all products you are long, and buying back all you are short. \n",
    "\n",
    "This is useful for starting with a clean slate, but doing so will come at a potentially large cost. \n",
    "\n",
    "You are not guaranteed to end up with a zero position afterwards, only that volume which is also available to trade in the market will be bought/sold."
   ]
  },
  {
   "cell_type": "code",
   "execution_count": 99,
   "id": "556b6ad0-c62a-4324-9638-b9357676fecf",
   "metadata": {},
   "outputs": [
    {
     "name": "stdout",
     "output_type": "stream",
     "text": [
      "Positions before: {'PHILIPS_A': -1, 'PHILIPS_B': 0}\n",
      "\n",
      "PnL before: 43.80\n",
      "\n",
      "Trading out of positions\n",
      "-- Inserting buy order for 1 lots of PHILIPS_A, with limit price 100000.00\n",
      "-- No initial position in PHILIPS_B, skipping..\n",
      "\n",
      "Positions after: {'PHILIPS_A': 0, 'PHILIPS_B': 0}\n",
      "\n",
      "PnL after: 43.80\n"
     ]
    },
    {
     "name": "stderr",
     "output_type": "stream",
     "text": [
      "2023-04-05 14:19:28,171 [client    ] [Thread-15   ] Forcing a disconnect due to an error: Closing connection because someone else logged in with the same credentials. Only one session may be active at the same time.\n"
     ]
    }
   ],
   "source": [
    "MIN_SELLING_PRICE = 0.10\n",
    "MAX_BUYING_PRICE = 100000.00\n",
    "\n",
    "positions = exchange.get_positions()\n",
    "pnl = exchange.get_pnl()\n",
    "\n",
    "print(f'Positions before: {positions}')\n",
    "print(f'\\nPnL before: {pnl:.2f}')\n",
    "\n",
    "print(f'\\nTrading out of positions')\n",
    "for iid, pos in positions.items():\n",
    "    if pos > 0:\n",
    "        print(f'-- Inserting sell order for {pos} lots of {iid}, with limit price {MIN_SELLING_PRICE:.2f}')\n",
    "        exchange.insert_order(iid, price=MIN_SELLING_PRICE, volume=pos, side='ask', order_type='ioc')\n",
    "    elif pos < 0:\n",
    "        print(f'-- Inserting buy order for {abs(pos)} lots of {iid}, with limit price {MAX_BUYING_PRICE:.2f}')\n",
    "        exchange.insert_order(iid, price=MAX_BUYING_PRICE, volume=-pos, side='bid', order_type='ioc')\n",
    "    else:\n",
    "        print(f'-- No initial position in {iid}, skipping..')\n",
    "    \n",
    "    time.sleep(0.10)\n",
    "\n",
    "time.sleep(1.0)\n",
    "\n",
    "positions = exchange.get_positions()\n",
    "pnl = exchange.get_pnl()\n",
    "print(f'\\nPositions after: {positions}')\n",
    "print(f'\\nPnL after: {pnl:.2f}')"
   ]
  },
  {
   "cell_type": "code",
   "execution_count": null,
   "id": "2a98c3de-c0e3-4a43-adf6-9879ce22b50a",
   "metadata": {},
   "outputs": [],
   "source": []
  }
 ],
 "metadata": {
  "kernelspec": {
   "display_name": "Python 3",
   "language": "python",
   "name": "python3"
  },
  "language_info": {
   "codemirror_mode": {
    "name": "ipython",
    "version": 3
   },
   "file_extension": ".py",
   "mimetype": "text/x-python",
   "name": "python",
   "nbconvert_exporter": "python",
   "pygments_lexer": "ipython3",
   "version": "3.6.12"
  }
 },
 "nbformat": 4,
 "nbformat_minor": 5
}
