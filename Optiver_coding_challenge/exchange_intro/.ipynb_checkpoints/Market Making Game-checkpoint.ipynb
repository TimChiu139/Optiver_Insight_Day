{
 "cells": [
  {
   "cell_type": "markdown",
   "id": "91c19135",
   "metadata": {},
   "source": [
    "# Market Making Game"
   ]
  },
  {
   "cell_type": "markdown",
   "id": "7039811e",
   "metadata": {},
   "source": [
    "This notebook is used for the Market Making games. A textual description of a product is provided, for example, a product could be \"The current age of The Queen\". Using the below functionality, the goal is to trade against the other market participants for a profit, to finally end up on top of the leaderboard.\n",
    "\n",
    "At the end of the round the market is settled, and any remaining position evaluated against the true value.\n",
    "\n",
    "Clearly.. no cheating by looking up the answer. For the rest, it's easy: buy low and sell high! Good luck!"
   ]
  },
  {
   "cell_type": "markdown",
   "id": "adb05833-989e-4fc8-8cf9-6b30a36b84e1",
   "metadata": {},
   "source": [
    "### Setup"
   ]
  },
  {
   "cell_type": "code",
   "execution_count": null,
   "id": "45bd8dd8-7149-435d-8d2d-03995939f0a4",
   "metadata": {},
   "outputs": [],
   "source": [
    "from optibook.synchronous_client import Exchange\n",
    "\n",
    "import time\n",
    "import logging\n",
    "logger = logging.getLogger('client')\n",
    "logger.setLevel('ERROR')\n",
    "\n",
    "print(\"Setup was successful.\")"
   ]
  },
  {
   "cell_type": "code",
   "execution_count": null,
   "id": "a02ee798-772d-4a59-81c1-b2eca2da9cc0",
   "metadata": {},
   "outputs": [],
   "source": [
    "exchange = Exchange()\n",
    "_ = exchange.connect()"
   ]
  },
  {
   "cell_type": "code",
   "execution_count": null,
   "id": "5c836efe-3f90-4cb2-9981-b06a9fd918cc",
   "metadata": {},
   "outputs": [],
   "source": [
    "instrument_id = 'MKT1'"
   ]
  },
  {
   "cell_type": "markdown",
   "id": "7cb0c721-1844-4921-b4b7-b0b31cfa0a90",
   "metadata": {},
   "source": [
    "### Position and outstanding orders"
   ]
  },
  {
   "cell_type": "code",
   "execution_count": null,
   "id": "28aa9523-2c69-4095-ac5d-e9ba783d6eaf",
   "metadata": {},
   "outputs": [],
   "source": [
    "position = exchange.get_positions()[instrument_id]\n",
    "print(f'''Current position in '{instrument_id}':''')\n",
    "print(position)\n",
    "\n",
    "outstanding_orders = exchange.get_outstanding_orders(instrument_id)\n",
    "print(f'''\\nCurrent outstanding orders in '{instrument_id}':''')\n",
    "for order_id, order in outstanding_orders.items():\n",
    "    print(order)"
   ]
  },
  {
   "cell_type": "code",
   "execution_count": null,
   "id": "a8ad5cff-252b-49cd-835a-cbbac4bbebf7",
   "metadata": {},
   "outputs": [],
   "source": [
    "trades = exchange.get_trade_history(instrument_id)\n",
    "print(f'''Trades in '{instrument_id}':''')\n",
    "print(trades)"
   ]
  },
  {
   "cell_type": "markdown",
   "id": "79430f67-be0c-4937-bd37-d6904600650e",
   "metadata": {},
   "source": [
    "### Order book"
   ]
  },
  {
   "cell_type": "code",
   "execution_count": null,
   "id": "1ccc0636-57e6-4a4d-9480-edb7fd99590b",
   "metadata": {},
   "outputs": [],
   "source": [
    "book = exchange.get_last_price_book(instrument_id)\n",
    "print(book)"
   ]
  },
  {
   "cell_type": "markdown",
   "id": "36bdd93b-1f72-489c-b67e-2d2bf0986363",
   "metadata": {},
   "source": [
    "### Trading"
   ]
  },
  {
   "cell_type": "code",
   "execution_count": null,
   "id": "9d8d0127-4871-4b7c-bc93-ec80ee4d3abd",
   "metadata": {},
   "outputs": [],
   "source": [
    "# Insert bid LIMIT order\n",
    "exchange.insert_order(instrument_id, price=1.00, volume=5, side='bid', order_type='limit')"
   ]
  },
  {
   "cell_type": "code",
   "execution_count": null,
   "id": "1ffd487c-961b-453a-942a-43b36301aee6",
   "metadata": {},
   "outputs": [],
   "source": [
    "# Insert ask LIMIT order\n",
    "exchange.insert_order(instrument_id, price=200.00, volume=5, side='ask', order_type='limit')"
   ]
  },
  {
   "cell_type": "code",
   "execution_count": null,
   "id": "6d0dea65-7337-415e-8c29-e2f7ed57eeca",
   "metadata": {},
   "outputs": [],
   "source": [
    "# Insert bid IOC order\n",
    "exchange.insert_order(instrument_id, price=1.00, volume=5, side='bid', order_type='ioc')"
   ]
  },
  {
   "cell_type": "code",
   "execution_count": null,
   "id": "e24958d7",
   "metadata": {},
   "outputs": [],
   "source": [
    "# Insert ask IOC order\n",
    "exchange.insert_order(instrument_id, price=200.00, volume=5, side='ask', order_type='ioc')"
   ]
  }
 ],
 "metadata": {
  "kernelspec": {
   "display_name": "Python 3 (ipykernel)",
   "language": "python",
   "name": "python3"
  },
  "language_info": {
   "codemirror_mode": {
    "name": "ipython",
    "version": 3
   },
   "file_extension": ".py",
   "mimetype": "text/x-python",
   "name": "python",
   "nbconvert_exporter": "python",
   "pygments_lexer": "ipython3",
   "version": "3.8.10"
  }
 },
 "nbformat": 4,
 "nbformat_minor": 5
}
