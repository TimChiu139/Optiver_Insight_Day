{
 "cells": [
  {
   "cell_type": "code",
   "execution_count": 183,
   "id": "52b76a87-f71e-480d-996b-da16cf21b85d",
   "metadata": {},
   "outputs": [
    {
     "name": "stdout",
     "output_type": "stream",
     "text": [
      "Setup was successful.\n"
     ]
    }
   ],
   "source": [
    "#setup\n",
    "from optibook.synchronous_client import Exchange\n",
    "\n",
    "import time\n",
    "import logging\n",
    "logger = logging.getLogger('client')\n",
    "logger.setLevel('ERROR')\n",
    "\n",
    "print(\"Setup was successful.\")"
   ]
  },
  {
   "cell_type": "code",
   "execution_count": 192,
   "id": "0849efe3-4ff2-4b2b-b023-ae3cc967c0e5",
   "metadata": {},
   "outputs": [
    {
     "name": "stderr",
     "output_type": "stream",
     "text": [
      "2023-04-05 14:33:53,656 [asyncio   ] [MainThread  ] Using selector: EpollSelector\n",
      "2023-04-05 14:34:24,358 [client    ] [Thread-32   ] Forcing a disconnect due to an error: Closing connection because someone else logged in with the same credentials. Only one session may be active at the same time.\n"
     ]
    }
   ],
   "source": [
    "exchange = Exchange()\n",
    "_ = exchange.connect()"
   ]
  },
  {
   "cell_type": "code",
   "execution_count": 185,
   "id": "5f5b0082-191b-43c3-a4ee-8a82a17a6744",
   "metadata": {},
   "outputs": [],
   "source": [
    "stock_a_id = 'PHILIPS_A'\n",
    "stock_b_id = 'PHILIPS_B'"
   ]
  },
  {
   "cell_type": "code",
   "execution_count": 186,
   "id": "ee83f25b-f16c-468a-b995-c2def2cedfcc",
   "metadata": {},
   "outputs": [
    {
     "data": {
      "text/plain": [
       "190"
      ]
     },
     "execution_count": 186,
     "metadata": {},
     "output_type": "execute_result"
    }
   ],
   "source": [
    "exchange.get_last_price_book(stock_a_id).asks[0].price\n",
    "\n",
    "exchange.get_last_price_book(stock_b_id).asks[0].price\n",
    "\n",
    "exchange.get_last_price_book(stock_b_id).asks[0].volume\n"
   ]
  },
  {
   "cell_type": "code",
   "execution_count": 104,
   "id": "78623d62-9c25-4f5a-ac81-c8dae1c2a80a",
   "metadata": {},
   "outputs": [],
   "source": [
    "import time"
   ]
  },
  {
   "cell_type": "code",
   "execution_count": 105,
   "id": "2cb92dd7-460f-4b88-8237-b0f95d2f2b67",
   "metadata": {},
   "outputs": [
    {
     "name": "stderr",
     "output_type": "stream",
     "text": [
      "2023-04-05 12:50:03,483 [client    ] [Thread-15   ] Forcing a disconnect due to an error: Pre-trade position limit (-200) breached on instrument PHILIPS_A. Old position=-160 New worst-case position=-210.\n"
     ]
    },
    {
     "ename": "KjException",
     "evalue": "(remote):0: failed: remote exception: std::exception: Pre-trade position limit (-200) breached on instrument PHILIPS_A. Old position=-160 New worst-case position=-210\nstack: 7fdae1be2cc0 7fdae1be1540 7fdae1b656d6 7fdae1b53612 7fdae1b53749 7fdae1b48c74 7fdae1ab1639 7fdae1b2a673 7fdb03d4ecc0 7fdb03cbee4e 7fdaf6823cba 7fdaf6825293 7fdb03cae0a2 7fdb03d4ae68 7fdb03d54569 7fdb03d54992 7fdb03d492c6 7fdb03d54569 7fdb03d54992 7fdb03d492c6 7fdb03d54569 7fdb03d54992 7fdb03d492c6 7fdb03d54569 7fdb03d54992 7fdb03d492c6 7fdb03d55b01 7fdb03cae31d 7fdb03cae421 7fdb03cae0a2 7fdb03d4ae68 7fdb03d54569",
     "output_type": "error",
     "traceback": [
      "\u001b[0;31m---------------------------------------------------------------------------\u001b[0m",
      "\u001b[0;31mKjException\u001b[0m                               Traceback (most recent call last)",
      "\u001b[0;32m<ipython-input-105-2f6594d5b4a4>\u001b[0m in \u001b[0;36m<module>\u001b[0;34m\u001b[0m\n\u001b[1;32m     11\u001b[0m         \u001b[0;31m## sell A, buy B\u001b[0m\u001b[0;34m\u001b[0m\u001b[0;34m\u001b[0m\u001b[0;34m\u001b[0m\u001b[0m\n\u001b[1;32m     12\u001b[0m         \u001b[0mmin_vol\u001b[0m \u001b[0;34m=\u001b[0m \u001b[0mmin\u001b[0m\u001b[0;34m(\u001b[0m\u001b[0mbid_volume_a\u001b[0m\u001b[0;34m,\u001b[0m \u001b[0mask_volume_b\u001b[0m\u001b[0;34m,\u001b[0m \u001b[0;36m50\u001b[0m\u001b[0;34m)\u001b[0m\u001b[0;34m\u001b[0m\u001b[0;34m\u001b[0m\u001b[0m\n\u001b[0;32m---> 13\u001b[0;31m         \u001b[0mexchange\u001b[0m\u001b[0;34m.\u001b[0m\u001b[0minsert_order\u001b[0m\u001b[0;34m(\u001b[0m\u001b[0mstock_a_id\u001b[0m\u001b[0;34m,\u001b[0m \u001b[0mprice\u001b[0m\u001b[0;34m=\u001b[0m\u001b[0mbid_price_a\u001b[0m\u001b[0;34m,\u001b[0m \u001b[0mvolume\u001b[0m\u001b[0;34m=\u001b[0m\u001b[0mmin_vol\u001b[0m\u001b[0;34m,\u001b[0m \u001b[0mside\u001b[0m\u001b[0;34m=\u001b[0m\u001b[0;34m'ask'\u001b[0m\u001b[0;34m,\u001b[0m \u001b[0morder_type\u001b[0m\u001b[0;34m=\u001b[0m\u001b[0;34m'ioc'\u001b[0m\u001b[0;34m)\u001b[0m\u001b[0;34m\u001b[0m\u001b[0;34m\u001b[0m\u001b[0m\n\u001b[0m\u001b[1;32m     14\u001b[0m         \u001b[0mexchange\u001b[0m\u001b[0;34m.\u001b[0m\u001b[0minsert_order\u001b[0m\u001b[0;34m(\u001b[0m\u001b[0mstock_b_id\u001b[0m\u001b[0;34m,\u001b[0m \u001b[0mprice\u001b[0m\u001b[0;34m=\u001b[0m\u001b[0mask_price_b\u001b[0m\u001b[0;34m,\u001b[0m \u001b[0mvolume\u001b[0m\u001b[0;34m=\u001b[0m\u001b[0mmin_vol\u001b[0m\u001b[0;34m,\u001b[0m \u001b[0mside\u001b[0m\u001b[0;34m=\u001b[0m\u001b[0;34m'bid'\u001b[0m\u001b[0;34m,\u001b[0m \u001b[0morder_type\u001b[0m\u001b[0;34m=\u001b[0m\u001b[0;34m'ioc'\u001b[0m\u001b[0;34m)\u001b[0m\u001b[0;34m\u001b[0m\u001b[0;34m\u001b[0m\u001b[0m\n\u001b[1;32m     15\u001b[0m \u001b[0;34m\u001b[0m\u001b[0m\n",
      "\u001b[0;32m/usr/local/lib/python3.6/site-packages/optibook/synchronous_client.py\u001b[0m in \u001b[0;36minsert_order\u001b[0;34m(self, instrument_id, price, volume, side, order_type)\u001b[0m\n\u001b[1;32m    119\u001b[0m \u001b[0;34m\u001b[0m\u001b[0m\n\u001b[1;32m    120\u001b[0m         return self._wrapper.run_on_loop(\n\u001b[0;32m--> 121\u001b[0;31m             \u001b[0mself\u001b[0m\u001b[0;34m.\u001b[0m\u001b[0m_e\u001b[0m\u001b[0;34m.\u001b[0m\u001b[0minsert_order\u001b[0m\u001b[0;34m(\u001b[0m\u001b[0minstrument_id\u001b[0m\u001b[0;34m=\u001b[0m\u001b[0minstrument_id\u001b[0m\u001b[0;34m,\u001b[0m \u001b[0mprice\u001b[0m\u001b[0;34m=\u001b[0m\u001b[0mprice\u001b[0m\u001b[0;34m,\u001b[0m \u001b[0mvolume\u001b[0m\u001b[0;34m=\u001b[0m\u001b[0mvolume\u001b[0m\u001b[0;34m,\u001b[0m \u001b[0mside\u001b[0m\u001b[0;34m=\u001b[0m\u001b[0mside\u001b[0m\u001b[0;34m,\u001b[0m \u001b[0morder_type\u001b[0m\u001b[0;34m=\u001b[0m\u001b[0morder_type\u001b[0m\u001b[0;34m)\u001b[0m\u001b[0;34m\u001b[0m\u001b[0;34m\u001b[0m\u001b[0m\n\u001b[0m\u001b[1;32m    122\u001b[0m         )\n\u001b[1;32m    123\u001b[0m \u001b[0;34m\u001b[0m\u001b[0m\n",
      "\u001b[0;32m/usr/local/lib/python3.6/site-packages/optibook/synchronous_wrapper.py\u001b[0m in \u001b[0;36mrun_on_loop\u001b[0;34m(self, awaitable)\u001b[0m\n\u001b[1;32m     80\u001b[0m             \u001b[0mself\u001b[0m\u001b[0;34m.\u001b[0m\u001b[0mdisconnect\u001b[0m\u001b[0;34m(\u001b[0m\u001b[0;34m)\u001b[0m\u001b[0;34m\u001b[0m\u001b[0;34m\u001b[0m\u001b[0m\n\u001b[1;32m     81\u001b[0m \u001b[0;34m\u001b[0m\u001b[0m\n\u001b[0;32m---> 82\u001b[0;31m         \u001b[0mret\u001b[0m \u001b[0;34m=\u001b[0m \u001b[0mfut\u001b[0m\u001b[0;34m.\u001b[0m\u001b[0mresult\u001b[0m\u001b[0;34m(\u001b[0m\u001b[0;34m)\u001b[0m\u001b[0;34m\u001b[0m\u001b[0;34m\u001b[0m\u001b[0m\n\u001b[0m\u001b[1;32m     83\u001b[0m         \u001b[0mend_time\u001b[0m \u001b[0;34m=\u001b[0m \u001b[0mdatetime\u001b[0m\u001b[0;34m.\u001b[0m\u001b[0mdatetime\u001b[0m\u001b[0;34m.\u001b[0m\u001b[0mnow\u001b[0m\u001b[0;34m(\u001b[0m\u001b[0;34m)\u001b[0m\u001b[0;34m\u001b[0m\u001b[0;34m\u001b[0m\u001b[0m\n\u001b[1;32m     84\u001b[0m         \u001b[0mdiff\u001b[0m \u001b[0;34m=\u001b[0m \u001b[0mend_time\u001b[0m \u001b[0;34m-\u001b[0m \u001b[0mstart_time\u001b[0m\u001b[0;34m\u001b[0m\u001b[0;34m\u001b[0m\u001b[0m\n",
      "\u001b[0;32m/usr/lib64/python3.6/concurrent/futures/_base.py\u001b[0m in \u001b[0;36mresult\u001b[0;34m(self, timeout)\u001b[0m\n\u001b[1;32m    423\u001b[0m                 \u001b[0;32mraise\u001b[0m \u001b[0mCancelledError\u001b[0m\u001b[0;34m(\u001b[0m\u001b[0;34m)\u001b[0m\u001b[0;34m\u001b[0m\u001b[0;34m\u001b[0m\u001b[0m\n\u001b[1;32m    424\u001b[0m             \u001b[0;32melif\u001b[0m \u001b[0mself\u001b[0m\u001b[0;34m.\u001b[0m\u001b[0m_state\u001b[0m \u001b[0;34m==\u001b[0m \u001b[0mFINISHED\u001b[0m\u001b[0;34m:\u001b[0m\u001b[0;34m\u001b[0m\u001b[0;34m\u001b[0m\u001b[0m\n\u001b[0;32m--> 425\u001b[0;31m                 \u001b[0;32mreturn\u001b[0m \u001b[0mself\u001b[0m\u001b[0;34m.\u001b[0m\u001b[0m__get_result\u001b[0m\u001b[0;34m(\u001b[0m\u001b[0;34m)\u001b[0m\u001b[0;34m\u001b[0m\u001b[0;34m\u001b[0m\u001b[0m\n\u001b[0m\u001b[1;32m    426\u001b[0m \u001b[0;34m\u001b[0m\u001b[0m\n\u001b[1;32m    427\u001b[0m             \u001b[0mself\u001b[0m\u001b[0;34m.\u001b[0m\u001b[0m_condition\u001b[0m\u001b[0;34m.\u001b[0m\u001b[0mwait\u001b[0m\u001b[0;34m(\u001b[0m\u001b[0mtimeout\u001b[0m\u001b[0;34m)\u001b[0m\u001b[0;34m\u001b[0m\u001b[0;34m\u001b[0m\u001b[0m\n",
      "\u001b[0;32m/usr/lib64/python3.6/concurrent/futures/_base.py\u001b[0m in \u001b[0;36m__get_result\u001b[0;34m(self)\u001b[0m\n\u001b[1;32m    382\u001b[0m     \u001b[0;32mdef\u001b[0m \u001b[0m__get_result\u001b[0m\u001b[0;34m(\u001b[0m\u001b[0mself\u001b[0m\u001b[0;34m)\u001b[0m\u001b[0;34m:\u001b[0m\u001b[0;34m\u001b[0m\u001b[0;34m\u001b[0m\u001b[0m\n\u001b[1;32m    383\u001b[0m         \u001b[0;32mif\u001b[0m \u001b[0mself\u001b[0m\u001b[0;34m.\u001b[0m\u001b[0m_exception\u001b[0m\u001b[0;34m:\u001b[0m\u001b[0;34m\u001b[0m\u001b[0;34m\u001b[0m\u001b[0m\n\u001b[0;32m--> 384\u001b[0;31m             \u001b[0;32mraise\u001b[0m \u001b[0mself\u001b[0m\u001b[0;34m.\u001b[0m\u001b[0m_exception\u001b[0m\u001b[0;34m\u001b[0m\u001b[0;34m\u001b[0m\u001b[0m\n\u001b[0m\u001b[1;32m    385\u001b[0m         \u001b[0;32melse\u001b[0m\u001b[0;34m:\u001b[0m\u001b[0;34m\u001b[0m\u001b[0;34m\u001b[0m\u001b[0m\n\u001b[1;32m    386\u001b[0m             \u001b[0;32mreturn\u001b[0m \u001b[0mself\u001b[0m\u001b[0;34m.\u001b[0m\u001b[0m_result\u001b[0m\u001b[0;34m\u001b[0m\u001b[0;34m\u001b[0m\u001b[0m\n",
      "\u001b[0;32m/usr/local/lib/python3.6/site-packages/optibook/exchange_client.py\u001b[0m in \u001b[0;36minsert_order\u001b[0;34m(self, instrument_id, price, volume, side, order_type)\u001b[0m\n\u001b[1;32m    301\u001b[0m         \u001b[0;32massert\u001b[0m \u001b[0mside\u001b[0m \u001b[0;32min\u001b[0m \u001b[0mALL_SIDES\u001b[0m\u001b[0;34m,\u001b[0m \u001b[0;34mf\"side must be one of {ALL_SIDES}\"\u001b[0m\u001b[0;34m\u001b[0m\u001b[0;34m\u001b[0m\u001b[0m\n\u001b[1;32m    302\u001b[0m         \u001b[0;32massert\u001b[0m \u001b[0morder_type\u001b[0m \u001b[0;32min\u001b[0m \u001b[0mALL_ORDER_TYPES\u001b[0m\u001b[0;34m,\u001b[0m \u001b[0;34mf\"order_type must be one of {ALL_ORDER_TYPES}\"\u001b[0m\u001b[0;34m\u001b[0m\u001b[0;34m\u001b[0m\u001b[0m\n\u001b[0;32m--> 303\u001b[0;31m         \u001b[0mresult\u001b[0m \u001b[0;34m=\u001b[0m \u001b[0mawait\u001b[0m \u001b[0mself\u001b[0m\u001b[0;34m.\u001b[0m\u001b[0m_exec\u001b[0m\u001b[0;34m.\u001b[0m\u001b[0minsertOrder\u001b[0m\u001b[0;34m(\u001b[0m\u001b[0minstrument_id\u001b[0m\u001b[0;34m,\u001b[0m \u001b[0mprice\u001b[0m\u001b[0;34m,\u001b[0m \u001b[0mvolume\u001b[0m\u001b[0;34m,\u001b[0m \u001b[0mside\u001b[0m\u001b[0;34m,\u001b[0m \u001b[0morder_type\u001b[0m\u001b[0;34m)\u001b[0m\u001b[0;34m.\u001b[0m\u001b[0ma_wait\u001b[0m\u001b[0;34m(\u001b[0m\u001b[0;34m)\u001b[0m\u001b[0;34m\u001b[0m\u001b[0;34m\u001b[0m\u001b[0m\n\u001b[0m\u001b[1;32m    304\u001b[0m         \u001b[0;32mif\u001b[0m \u001b[0;32mnot\u001b[0m \u001b[0mresult\u001b[0m\u001b[0;34m.\u001b[0m\u001b[0msuccess\u001b[0m\u001b[0;34m:\u001b[0m\u001b[0;34m\u001b[0m\u001b[0;34m\u001b[0m\u001b[0m\n\u001b[1;32m    305\u001b[0m             \u001b[0mlogger\u001b[0m\u001b[0;34m.\u001b[0m\u001b[0mwarning\u001b[0m\u001b[0;34m(\u001b[0m\u001b[0;34mf'order insert failed with reason: {result.errorReason}'\u001b[0m\u001b[0;34m)\u001b[0m\u001b[0;34m\u001b[0m\u001b[0;34m\u001b[0m\u001b[0m\n",
      "\u001b[0;32m/usr/local/lib64/python3.6/site-packages/capnp/lib/capnp.pyx\u001b[0m in \u001b[0;36ma_wait\u001b[0;34m()\u001b[0m\n",
      "\u001b[0;31mKjException\u001b[0m: (remote):0: failed: remote exception: std::exception: Pre-trade position limit (-200) breached on instrument PHILIPS_A. Old position=-160 New worst-case position=-210\nstack: 7fdae1be2cc0 7fdae1be1540 7fdae1b656d6 7fdae1b53612 7fdae1b53749 7fdae1b48c74 7fdae1ab1639 7fdae1b2a673 7fdb03d4ecc0 7fdb03cbee4e 7fdaf6823cba 7fdaf6825293 7fdb03cae0a2 7fdb03d4ae68 7fdb03d54569 7fdb03d54992 7fdb03d492c6 7fdb03d54569 7fdb03d54992 7fdb03d492c6 7fdb03d54569 7fdb03d54992 7fdb03d492c6 7fdb03d54569 7fdb03d54992 7fdb03d492c6 7fdb03d55b01 7fdb03cae31d 7fdb03cae421 7fdb03cae0a2 7fdb03d4ae68 7fdb03d54569"
     ]
    }
   ],
   "source": [
    "while True:\n",
    "    ask_price_b = exchange.get_last_price_book(stock_b_id).asks[0].price\n",
    "    bid_price_a = exchange.get_last_price_book(stock_a_id).bids[0].price\n",
    "\n",
    "    bid_volume_a = exchange.get_last_price_book(stock_a_id).bids[0].volume\n",
    "    ask_volume_b = exchange.get_last_price_book(stock_b_id).asks[0].volume\n",
    "    \n",
    "    \n",
    "    if exchange.get_last_price_book(stock_b_id).asks[0].price < exchange.get_last_price_book(stock_a_id).bids[0].price:\n",
    "        ## ask_b < bid_a\n",
    "        ## sell A, buy B\n",
    "        min_vol = min(bid_volume_a, ask_volume_b, 50)\n",
    "        exchange.insert_order(stock_a_id, price=bid_price_a, volume=min_vol, side='ask', order_type='ioc')\n",
    "        exchange.insert_order(stock_b_id, price=ask_price_b, volume=min_vol, side='bid', order_type='ioc')\n",
    "\n",
    "        \n",
    "    ask_price_a = exchange.get_last_price_book(stock_a_id).asks[0].price\n",
    "    bid_price_b = exchange.get_last_price_book(stock_b_id).bids[0].price\n",
    "        \n",
    "    ask_volume_a = exchange.get_last_price_book(stock_a_id).asks[0].volume\n",
    "    bid_volume_b = exchange.get_last_price_book(stock_b_id).bids[0].volume\n",
    "    \n",
    "    if exchange.get_last_price_book(stock_a_id).asks[0].price < exchange.get_last_price_book(stock_b_id).bids[0].price:\n",
    "        ## ask_a < bid_b\n",
    "        ## buy A, sell B\n",
    "        min_vol = min(bid_volume_b, ask_volume_a, 50)\n",
    "        exchange.insert_order(stock_a_id, price=bid_price_b, volume=min_vol, side='ask', order_type='ioc')\n",
    "        exchange.insert_order(stock_b_id, price=ask_price_a, volume=min_vol, side='bid', order_type='ioc')\n",
    "                        "
   ]
  },
  {
   "cell_type": "code",
   "execution_count": 191,
   "id": "e216dde8-7680-49de-a975-2ba5d132a7d3",
   "metadata": {},
   "outputs": [
    {
     "data": {
      "text/plain": [
       "{'PHILIPS_A': 0, 'PHILIPS_B': 0}"
      ]
     },
     "execution_count": 191,
     "metadata": {},
     "output_type": "execute_result"
    }
   ],
   "source": [
    "exchange.get_positions()"
   ]
  },
  {
   "cell_type": "code",
   "execution_count": 176,
   "id": "1c97e938-e489-43f1-a735-9aac172559df",
   "metadata": {},
   "outputs": [
    {
     "ename": "KeyboardInterrupt",
     "evalue": "",
     "output_type": "error",
     "traceback": [
      "\u001b[0;31m---------------------------------------------------------------------------\u001b[0m",
      "\u001b[0;31mKeyboardInterrupt\u001b[0m                         Traceback (most recent call last)",
      "\u001b[0;32m<ipython-input-176-daab8fe607ea>\u001b[0m in \u001b[0;36m<module>\u001b[0;34m\u001b[0m\n\u001b[1;32m     27\u001b[0m         \u001b[0msell_a\u001b[0m\u001b[0;34m(\u001b[0m\u001b[0;34m)\u001b[0m\u001b[0;34m\u001b[0m\u001b[0;34m\u001b[0m\u001b[0m\n\u001b[1;32m     28\u001b[0m     \u001b[0;32melif\u001b[0m \u001b[0mexchange\u001b[0m\u001b[0;34m.\u001b[0m\u001b[0mget_positions\u001b[0m\u001b[0;34m(\u001b[0m\u001b[0;34m)\u001b[0m\u001b[0;34m[\u001b[0m\u001b[0mstock_a_id\u001b[0m\u001b[0;34m]\u001b[0m \u001b[0;34m<\u001b[0m \u001b[0;34m-\u001b[0m\u001b[0;36m100\u001b[0m\u001b[0;34m:\u001b[0m\u001b[0;34m\u001b[0m\u001b[0;34m\u001b[0m\u001b[0m\n\u001b[0;32m---> 29\u001b[0;31m         \u001b[0mbuy_a\u001b[0m\u001b[0;34m(\u001b[0m\u001b[0;34m)\u001b[0m\u001b[0;34m\u001b[0m\u001b[0;34m\u001b[0m\u001b[0m\n\u001b[0m\u001b[1;32m     30\u001b[0m     \u001b[0;32melse\u001b[0m\u001b[0;34m:\u001b[0m\u001b[0;34m\u001b[0m\u001b[0;34m\u001b[0m\u001b[0m\n\u001b[1;32m     31\u001b[0m         \u001b[0msell_a\u001b[0m\u001b[0;34m(\u001b[0m\u001b[0;34m)\u001b[0m\u001b[0;34m\u001b[0m\u001b[0;34m\u001b[0m\u001b[0m\n",
      "\u001b[0;32m<ipython-input-176-daab8fe607ea>\u001b[0m in \u001b[0;36mbuy_a\u001b[0;34m()\u001b[0m\n\u001b[1;32m      3\u001b[0m     \u001b[0mbid_price_b\u001b[0m \u001b[0;34m=\u001b[0m \u001b[0mexchange\u001b[0m\u001b[0;34m.\u001b[0m\u001b[0mget_last_price_book\u001b[0m\u001b[0;34m(\u001b[0m\u001b[0mstock_b_id\u001b[0m\u001b[0;34m)\u001b[0m\u001b[0;34m.\u001b[0m\u001b[0mbids\u001b[0m\u001b[0;34m[\u001b[0m\u001b[0;36m0\u001b[0m\u001b[0;34m]\u001b[0m\u001b[0;34m.\u001b[0m\u001b[0mprice\u001b[0m\u001b[0;34m\u001b[0m\u001b[0;34m\u001b[0m\u001b[0m\n\u001b[1;32m      4\u001b[0m     \u001b[0mask_volume_a\u001b[0m \u001b[0;34m=\u001b[0m \u001b[0mexchange\u001b[0m\u001b[0;34m.\u001b[0m\u001b[0mget_last_price_book\u001b[0m\u001b[0;34m(\u001b[0m\u001b[0mstock_a_id\u001b[0m\u001b[0;34m)\u001b[0m\u001b[0;34m.\u001b[0m\u001b[0masks\u001b[0m\u001b[0;34m[\u001b[0m\u001b[0;36m0\u001b[0m\u001b[0;34m]\u001b[0m\u001b[0;34m.\u001b[0m\u001b[0mvolume\u001b[0m\u001b[0;34m\u001b[0m\u001b[0;34m\u001b[0m\u001b[0m\n\u001b[0;32m----> 5\u001b[0;31m     \u001b[0mbid_volume_b\u001b[0m \u001b[0;34m=\u001b[0m \u001b[0mexchange\u001b[0m\u001b[0;34m.\u001b[0m\u001b[0mget_last_price_book\u001b[0m\u001b[0;34m(\u001b[0m\u001b[0mstock_b_id\u001b[0m\u001b[0;34m)\u001b[0m\u001b[0;34m.\u001b[0m\u001b[0mbids\u001b[0m\u001b[0;34m[\u001b[0m\u001b[0;36m0\u001b[0m\u001b[0;34m]\u001b[0m\u001b[0;34m.\u001b[0m\u001b[0mvolume\u001b[0m\u001b[0;34m\u001b[0m\u001b[0;34m\u001b[0m\u001b[0m\n\u001b[0m\u001b[1;32m      6\u001b[0m \u001b[0;34m\u001b[0m\u001b[0m\n\u001b[1;32m      7\u001b[0m     \u001b[0;32mif\u001b[0m \u001b[0mask_price_a\u001b[0m \u001b[0;34m<\u001b[0m \u001b[0mbid_price_b\u001b[0m\u001b[0;34m:\u001b[0m\u001b[0;34m\u001b[0m\u001b[0;34m\u001b[0m\u001b[0m\n",
      "\u001b[0;32m/usr/local/lib/python3.6/site-packages/optibook/synchronous_client.py\u001b[0m in \u001b[0;36mget_last_price_book\u001b[0;34m(self, instrument_id)\u001b[0m\n\u001b[1;32m    292\u001b[0m              \u001b[0mReturns\u001b[0m \u001b[0mthe\u001b[0m \u001b[0mlast\u001b[0m \u001b[0mreceived\u001b[0m \u001b[0mlimit\u001b[0m \u001b[0morder\u001b[0m \u001b[0mbook\u001b[0m \u001b[0mstate\u001b[0m \u001b[0;32mfor\u001b[0m \u001b[0man\u001b[0m \u001b[0minstrument\u001b[0m\u001b[0;34m.\u001b[0m\u001b[0;34m\u001b[0m\u001b[0;34m\u001b[0m\u001b[0m\n\u001b[1;32m    293\u001b[0m         \"\"\"\n\u001b[0;32m--> 294\u001b[0;31m         \u001b[0;32massert\u001b[0m \u001b[0mself\u001b[0m\u001b[0;34m.\u001b[0m\u001b[0mis_connected\u001b[0m\u001b[0;34m(\u001b[0m\u001b[0;34m)\u001b[0m\u001b[0;34m,\u001b[0m \u001b[0;34m\"Cannot call function until connected. Call connect() first\"\u001b[0m\u001b[0;34m\u001b[0m\u001b[0;34m\u001b[0m\u001b[0m\n\u001b[0m\u001b[1;32m    295\u001b[0m         \u001b[0;32mreturn\u001b[0m \u001b[0mself\u001b[0m\u001b[0;34m.\u001b[0m\u001b[0m_i\u001b[0m\u001b[0;34m.\u001b[0m\u001b[0mget_last_price_book\u001b[0m\u001b[0;34m(\u001b[0m\u001b[0minstrument_id\u001b[0m\u001b[0;34m)\u001b[0m\u001b[0;34m\u001b[0m\u001b[0;34m\u001b[0m\u001b[0m\n\u001b[1;32m    296\u001b[0m \u001b[0;34m\u001b[0m\u001b[0m\n",
      "\u001b[0;32m/usr/local/lib/python3.6/site-packages/optibook/synchronous_client.py\u001b[0m in \u001b[0;36mis_connected\u001b[0;34m(self)\u001b[0m\n\u001b[1;32m     62\u001b[0m             \u001b[0;32mTrue\u001b[0m \u001b[0;32mif\u001b[0m \u001b[0myou\u001b[0m \u001b[0mare\u001b[0m \u001b[0mconnected\u001b[0m\u001b[0;34m,\u001b[0m \u001b[0motherwise\u001b[0m \u001b[0mfalse\u001b[0m\u001b[0;34m.\u001b[0m\u001b[0;34m\u001b[0m\u001b[0;34m\u001b[0m\u001b[0m\n\u001b[1;32m     63\u001b[0m         \"\"\"\n\u001b[0;32m---> 64\u001b[0;31m         \u001b[0;32mreturn\u001b[0m \u001b[0mself\u001b[0m\u001b[0;34m.\u001b[0m\u001b[0m_wrapper\u001b[0m\u001b[0;34m.\u001b[0m\u001b[0mis_connected\u001b[0m\u001b[0;34m(\u001b[0m\u001b[0;34m)\u001b[0m\u001b[0;34m\u001b[0m\u001b[0;34m\u001b[0m\u001b[0m\n\u001b[0m\u001b[1;32m     65\u001b[0m \u001b[0;34m\u001b[0m\u001b[0m\n\u001b[1;32m     66\u001b[0m     \u001b[0;32mdef\u001b[0m \u001b[0mconnect\u001b[0m\u001b[0;34m(\u001b[0m\u001b[0mself\u001b[0m\u001b[0;34m)\u001b[0m \u001b[0;34m->\u001b[0m \u001b[0;32mNone\u001b[0m\u001b[0;34m:\u001b[0m\u001b[0;34m\u001b[0m\u001b[0;34m\u001b[0m\u001b[0m\n",
      "\u001b[0;32m/usr/local/lib/python3.6/site-packages/optibook/synchronous_wrapper.py\u001b[0m in \u001b[0;36mis_connected\u001b[0;34m(self)\u001b[0m\n\u001b[1;32m     26\u001b[0m \u001b[0;34m\u001b[0m\u001b[0m\n\u001b[1;32m     27\u001b[0m     \u001b[0;32mdef\u001b[0m \u001b[0mis_connected\u001b[0m\u001b[0;34m(\u001b[0m\u001b[0mself\u001b[0m\u001b[0;34m)\u001b[0m \u001b[0;34m->\u001b[0m \u001b[0mbool\u001b[0m\u001b[0;34m:\u001b[0m\u001b[0;34m\u001b[0m\u001b[0;34m\u001b[0m\u001b[0m\n\u001b[0;32m---> 28\u001b[0;31m         \u001b[0;32mreturn\u001b[0m \u001b[0mall\u001b[0m\u001b[0;34m(\u001b[0m\u001b[0;34m[\u001b[0m\u001b[0mcl\u001b[0m\u001b[0;34m.\u001b[0m\u001b[0mis_connected\u001b[0m\u001b[0;34m(\u001b[0m\u001b[0;34m)\u001b[0m \u001b[0;32mfor\u001b[0m \u001b[0mcl\u001b[0m \u001b[0;32min\u001b[0m \u001b[0mself\u001b[0m\u001b[0;34m.\u001b[0m\u001b[0m_clients\u001b[0m\u001b[0;34m]\u001b[0m\u001b[0;34m)\u001b[0m \u001b[0;32mand\u001b[0m \u001b[0mself\u001b[0m\u001b[0;34m.\u001b[0m\u001b[0m_loop\u001b[0m\u001b[0;34m.\u001b[0m\u001b[0mis_running\u001b[0m\u001b[0;34m(\u001b[0m\u001b[0;34m)\u001b[0m\u001b[0;34m\u001b[0m\u001b[0;34m\u001b[0m\u001b[0m\n\u001b[0m\u001b[1;32m     29\u001b[0m \u001b[0;34m\u001b[0m\u001b[0m\n\u001b[1;32m     30\u001b[0m     \u001b[0;32mdef\u001b[0m \u001b[0mconnect\u001b[0m\u001b[0;34m(\u001b[0m\u001b[0mself\u001b[0m\u001b[0;34m)\u001b[0m \u001b[0;34m->\u001b[0m \u001b[0;32mNone\u001b[0m\u001b[0;34m:\u001b[0m\u001b[0;34m\u001b[0m\u001b[0;34m\u001b[0m\u001b[0m\n",
      "\u001b[0;32m/usr/local/lib/python3.6/site-packages/optibook/synchronous_wrapper.py\u001b[0m in \u001b[0;36m<listcomp>\u001b[0;34m(.0)\u001b[0m\n\u001b[1;32m     26\u001b[0m \u001b[0;34m\u001b[0m\u001b[0m\n\u001b[1;32m     27\u001b[0m     \u001b[0;32mdef\u001b[0m \u001b[0mis_connected\u001b[0m\u001b[0;34m(\u001b[0m\u001b[0mself\u001b[0m\u001b[0;34m)\u001b[0m \u001b[0;34m->\u001b[0m \u001b[0mbool\u001b[0m\u001b[0;34m:\u001b[0m\u001b[0;34m\u001b[0m\u001b[0;34m\u001b[0m\u001b[0m\n\u001b[0;32m---> 28\u001b[0;31m         \u001b[0;32mreturn\u001b[0m \u001b[0mall\u001b[0m\u001b[0;34m(\u001b[0m\u001b[0;34m[\u001b[0m\u001b[0mcl\u001b[0m\u001b[0;34m.\u001b[0m\u001b[0mis_connected\u001b[0m\u001b[0;34m(\u001b[0m\u001b[0;34m)\u001b[0m \u001b[0;32mfor\u001b[0m \u001b[0mcl\u001b[0m \u001b[0;32min\u001b[0m \u001b[0mself\u001b[0m\u001b[0;34m.\u001b[0m\u001b[0m_clients\u001b[0m\u001b[0;34m]\u001b[0m\u001b[0;34m)\u001b[0m \u001b[0;32mand\u001b[0m \u001b[0mself\u001b[0m\u001b[0;34m.\u001b[0m\u001b[0m_loop\u001b[0m\u001b[0;34m.\u001b[0m\u001b[0mis_running\u001b[0m\u001b[0;34m(\u001b[0m\u001b[0;34m)\u001b[0m\u001b[0;34m\u001b[0m\u001b[0;34m\u001b[0m\u001b[0m\n\u001b[0m\u001b[1;32m     29\u001b[0m \u001b[0;34m\u001b[0m\u001b[0m\n\u001b[1;32m     30\u001b[0m     \u001b[0;32mdef\u001b[0m \u001b[0mconnect\u001b[0m\u001b[0;34m(\u001b[0m\u001b[0mself\u001b[0m\u001b[0;34m)\u001b[0m \u001b[0;34m->\u001b[0m \u001b[0;32mNone\u001b[0m\u001b[0;34m:\u001b[0m\u001b[0;34m\u001b[0m\u001b[0;34m\u001b[0m\u001b[0m\n",
      "\u001b[0;32m/usr/local/lib/python3.6/site-packages/optibook/base_client.py\u001b[0m in \u001b[0;36mis_connected\u001b[0;34m(self)\u001b[0m\n\u001b[1;32m     91\u001b[0m             \u001b[0;32mreturn\u001b[0m \u001b[0;32mFalse\u001b[0m\u001b[0;34m\u001b[0m\u001b[0;34m\u001b[0m\u001b[0m\n\u001b[1;32m     92\u001b[0m         \u001b[0;32mtry\u001b[0m\u001b[0;34m:\u001b[0m\u001b[0;34m\u001b[0m\u001b[0;34m\u001b[0m\u001b[0m\n\u001b[0;32m---> 93\u001b[0;31m             \u001b[0mself\u001b[0m\u001b[0;34m.\u001b[0m\u001b[0m_socket\u001b[0m\u001b[0;34m.\u001b[0m\u001b[0mgetpeername\u001b[0m\u001b[0;34m(\u001b[0m\u001b[0;34m)\u001b[0m\u001b[0;34m\u001b[0m\u001b[0;34m\u001b[0m\u001b[0m\n\u001b[0m\u001b[1;32m     94\u001b[0m         \u001b[0;32mexcept\u001b[0m \u001b[0mOSError\u001b[0m\u001b[0;34m:\u001b[0m\u001b[0;34m\u001b[0m\u001b[0;34m\u001b[0m\u001b[0m\n\u001b[1;32m     95\u001b[0m             \u001b[0;32mreturn\u001b[0m \u001b[0;32mFalse\u001b[0m\u001b[0;34m\u001b[0m\u001b[0;34m\u001b[0m\u001b[0m\n",
      "\u001b[0;31mKeyboardInterrupt\u001b[0m: "
     ]
    },
    {
     "name": "stderr",
     "output_type": "stream",
     "text": [
      "2023-04-05 13:50:41,448 [client    ] [Thread-29   ] Forcing a disconnect due to an error: Closing connection because someone else logged in with the same credentials. Only one session may be active at the same time.\n"
     ]
    }
   ],
   "source": [
    "def buy_a():\n",
    "    ask_price_a = exchange.get_last_price_book(stock_a_id).asks[0].price\n",
    "    bid_price_b = exchange.get_last_price_book(stock_b_id).bids[0].price\n",
    "    ask_volume_a = exchange.get_last_price_book(stock_a_id).asks[0].volume\n",
    "    bid_volume_b = exchange.get_last_price_book(stock_b_id).bids[0].volume\n",
    "    \n",
    "    if ask_price_a < bid_price_b:\n",
    "        ## buy A, sell B\n",
    "        min_vol = min(bid_volume_b, ask_volume_a, 20)\n",
    "        exchange.insert_order(stock_a_id, price=bid_price_b, volume=min_vol, side='ask', order_type='ioc')\n",
    "        exchange.insert_order(stock_b_id, price=ask_price_a, volume=min_vol, side='bid', order_type='ioc')\n",
    "        \n",
    "def sell_a():\n",
    "    ask_price_b = exchange.get_last_price_book(stock_b_id).asks[0].price\n",
    "    bid_price_a = exchange.get_last_price_book(stock_a_id).bids[0].price\n",
    "    bid_volume_a = exchange.get_last_price_book(stock_a_id).bids[0].volume\n",
    "    ask_volume_b = exchange.get_last_price_book(stock_b_id).asks[0].volume\n",
    "    \n",
    "    if ask_price_b < bid_price_a:\n",
    "        ## sell A, buy B\n",
    "        min_vol = min(bid_volume_a, ask_volume_b, 20)\n",
    "        exchange.insert_order(stock_a_id, price=bid_price_a, volume=min_vol, side='ask', order_type='ioc')\n",
    "        exchange.insert_order(stock_b_id, price=ask_price_b, volume=min_vol, side='bid', order_type='ioc')\n",
    "        \n",
    "while True:\n",
    "    if exchange.get_positions()[stock_a_id] > 100:\n",
    "        sell_a()\n",
    "    elif exchange.get_positions()[stock_a_id] < -100:\n",
    "        buy_a()\n",
    "    else:\n",
    "        sell_a()\n",
    "        buy_a()\n",
    "        sell_a()\n",
    "        buy_a()\n"
   ]
  },
  {
   "cell_type": "code",
   "execution_count": 189,
   "id": "c9e92656-28b2-44ea-94b3-71f2c8cd8422",
   "metadata": {},
   "outputs": [
    {
     "ename": "KjException",
     "evalue": "capnp/dynamic.c++:1699: failed: expected value >= 0 && T(value) == value; Value out-of-range for requested type.; value = -1\nstack: 7fdae1c672b8 7fdae1c67c3e 7fdae1c6947a 7fdae1b3824b 7fdae1b3a05b 7fdae1b49481 7fdae1acf111 7fdb03cea71d 7fdb03cae0a2 7fdb03deb752 7fdb03cae29f 7fdb03d54a1b 7fdb03d492c6 7fdb03cbee4e 7fdaf6823cba 7fdaf6824a71 7fdb03cae0a2 7fdb03d4ae68 7fdb03d54569 7fdb03d54992 7fdb03d492c6 7fdb03d54569 7fdb03d54992 7fdb03d492c6 7fdb03d54569 7fdb03d54992 7fdb03d492c6 7fdb03d54569 7fdb03d54992 7fdb03d492c6 7fdb03d55b01",
     "output_type": "error",
     "traceback": [
      "\u001b[0;31m---------------------------------------------------------------------------\u001b[0m",
      "\u001b[0;31mKjException\u001b[0m                               Traceback (most recent call last)",
      "\u001b[0;32m<ipython-input-189-a259ef85b6ac>\u001b[0m in \u001b[0;36m<module>\u001b[0;34m\u001b[0m\n\u001b[1;32m     34\u001b[0m         \u001b[0;32mif\u001b[0m \u001b[0mexchange\u001b[0m\u001b[0;34m.\u001b[0m\u001b[0mget_positions\u001b[0m\u001b[0;34m(\u001b[0m\u001b[0;34m)\u001b[0m\u001b[0;34m[\u001b[0m\u001b[0mstock_a_id\u001b[0m\u001b[0;34m]\u001b[0m \u001b[0;34m<\u001b[0m \u001b[0;36m0\u001b[0m\u001b[0;34m:\u001b[0m\u001b[0;34m\u001b[0m\u001b[0;34m\u001b[0m\u001b[0m\n\u001b[1;32m     35\u001b[0m             \u001b[0;32mif\u001b[0m \u001b[0mexchange\u001b[0m\u001b[0;34m.\u001b[0m\u001b[0mget_last_price_book\u001b[0m\u001b[0;34m(\u001b[0m\u001b[0mstock_a_id\u001b[0m\u001b[0;34m)\u001b[0m\u001b[0;34m.\u001b[0m\u001b[0masks\u001b[0m\u001b[0;34m[\u001b[0m\u001b[0;36m0\u001b[0m\u001b[0;34m]\u001b[0m\u001b[0;34m.\u001b[0m\u001b[0mprice\u001b[0m \u001b[0;34m==\u001b[0m \u001b[0mexchange\u001b[0m\u001b[0;34m.\u001b[0m\u001b[0mget_last_price_book\u001b[0m\u001b[0;34m(\u001b[0m\u001b[0mstock_b_id\u001b[0m\u001b[0;34m)\u001b[0m\u001b[0;34m.\u001b[0m\u001b[0mbids\u001b[0m\u001b[0;34m[\u001b[0m\u001b[0;36m0\u001b[0m\u001b[0;34m]\u001b[0m\u001b[0;34m.\u001b[0m\u001b[0mprice\u001b[0m\u001b[0;34m:\u001b[0m\u001b[0;34m\u001b[0m\u001b[0;34m\u001b[0m\u001b[0m\n\u001b[0;32m---> 36\u001b[0;31m                 \u001b[0mexchange\u001b[0m\u001b[0;34m.\u001b[0m\u001b[0minsert_order\u001b[0m\u001b[0;34m(\u001b[0m\u001b[0mstock_a_id\u001b[0m\u001b[0;34m,\u001b[0m \u001b[0mprice\u001b[0m\u001b[0;34m=\u001b[0m\u001b[0mexchange\u001b[0m\u001b[0;34m.\u001b[0m\u001b[0mget_last_price_book\u001b[0m\u001b[0;34m(\u001b[0m\u001b[0mstock_b_id\u001b[0m\u001b[0;34m)\u001b[0m\u001b[0;34m.\u001b[0m\u001b[0mbids\u001b[0m\u001b[0;34m[\u001b[0m\u001b[0;36m0\u001b[0m\u001b[0;34m]\u001b[0m\u001b[0;34m.\u001b[0m\u001b[0mprice\u001b[0m\u001b[0;34m,\u001b[0m \u001b[0mvolume\u001b[0m\u001b[0;34m=\u001b[0m\u001b[0mexchange\u001b[0m\u001b[0;34m.\u001b[0m\u001b[0mget_positions\u001b[0m\u001b[0;34m(\u001b[0m\u001b[0;34m)\u001b[0m\u001b[0;34m[\u001b[0m\u001b[0mstock_a_id\u001b[0m\u001b[0;34m]\u001b[0m\u001b[0;34m,\u001b[0m \u001b[0mside\u001b[0m\u001b[0;34m=\u001b[0m\u001b[0;34m'ask'\u001b[0m\u001b[0;34m,\u001b[0m \u001b[0morder_type\u001b[0m\u001b[0;34m=\u001b[0m\u001b[0;34m'ioc'\u001b[0m\u001b[0;34m)\u001b[0m\u001b[0;34m\u001b[0m\u001b[0;34m\u001b[0m\u001b[0m\n\u001b[0m\u001b[1;32m     37\u001b[0m                 \u001b[0mexchange\u001b[0m\u001b[0;34m.\u001b[0m\u001b[0minsert_order\u001b[0m\u001b[0;34m(\u001b[0m\u001b[0mstock_b_id\u001b[0m\u001b[0;34m,\u001b[0m \u001b[0mprice\u001b[0m\u001b[0;34m=\u001b[0m\u001b[0mexchange\u001b[0m\u001b[0;34m.\u001b[0m\u001b[0mget_last_price_book\u001b[0m\u001b[0;34m(\u001b[0m\u001b[0mstock_a_id\u001b[0m\u001b[0;34m)\u001b[0m\u001b[0;34m.\u001b[0m\u001b[0masks\u001b[0m\u001b[0;34m[\u001b[0m\u001b[0;36m0\u001b[0m\u001b[0;34m]\u001b[0m\u001b[0;34m.\u001b[0m\u001b[0mprice\u001b[0m\u001b[0;34m,\u001b[0m \u001b[0mvolume\u001b[0m\u001b[0;34m=\u001b[0m\u001b[0mexchange\u001b[0m\u001b[0;34m.\u001b[0m\u001b[0mget_positions\u001b[0m\u001b[0;34m(\u001b[0m\u001b[0;34m)\u001b[0m\u001b[0;34m[\u001b[0m\u001b[0mstock_a_id\u001b[0m\u001b[0;34m]\u001b[0m\u001b[0;34m,\u001b[0m \u001b[0mside\u001b[0m\u001b[0;34m=\u001b[0m\u001b[0;34m'bid'\u001b[0m\u001b[0;34m,\u001b[0m \u001b[0morder_type\u001b[0m\u001b[0;34m=\u001b[0m\u001b[0;34m'ioc'\u001b[0m\u001b[0;34m)\u001b[0m\u001b[0;34m\u001b[0m\u001b[0;34m\u001b[0m\u001b[0m\n",
      "\u001b[0;32m/usr/local/lib/python3.6/site-packages/optibook/synchronous_client.py\u001b[0m in \u001b[0;36minsert_order\u001b[0;34m(self, instrument_id, price, volume, side, order_type)\u001b[0m\n\u001b[1;32m    119\u001b[0m \u001b[0;34m\u001b[0m\u001b[0m\n\u001b[1;32m    120\u001b[0m         return self._wrapper.run_on_loop(\n\u001b[0;32m--> 121\u001b[0;31m             \u001b[0mself\u001b[0m\u001b[0;34m.\u001b[0m\u001b[0m_e\u001b[0m\u001b[0;34m.\u001b[0m\u001b[0minsert_order\u001b[0m\u001b[0;34m(\u001b[0m\u001b[0minstrument_id\u001b[0m\u001b[0;34m=\u001b[0m\u001b[0minstrument_id\u001b[0m\u001b[0;34m,\u001b[0m \u001b[0mprice\u001b[0m\u001b[0;34m=\u001b[0m\u001b[0mprice\u001b[0m\u001b[0;34m,\u001b[0m \u001b[0mvolume\u001b[0m\u001b[0;34m=\u001b[0m\u001b[0mvolume\u001b[0m\u001b[0;34m,\u001b[0m \u001b[0mside\u001b[0m\u001b[0;34m=\u001b[0m\u001b[0mside\u001b[0m\u001b[0;34m,\u001b[0m \u001b[0morder_type\u001b[0m\u001b[0;34m=\u001b[0m\u001b[0morder_type\u001b[0m\u001b[0;34m)\u001b[0m\u001b[0;34m\u001b[0m\u001b[0;34m\u001b[0m\u001b[0m\n\u001b[0m\u001b[1;32m    122\u001b[0m         )\n\u001b[1;32m    123\u001b[0m \u001b[0;34m\u001b[0m\u001b[0m\n",
      "\u001b[0;32m/usr/local/lib/python3.6/site-packages/optibook/synchronous_wrapper.py\u001b[0m in \u001b[0;36mrun_on_loop\u001b[0;34m(self, awaitable)\u001b[0m\n\u001b[1;32m     80\u001b[0m             \u001b[0mself\u001b[0m\u001b[0;34m.\u001b[0m\u001b[0mdisconnect\u001b[0m\u001b[0;34m(\u001b[0m\u001b[0;34m)\u001b[0m\u001b[0;34m\u001b[0m\u001b[0;34m\u001b[0m\u001b[0m\n\u001b[1;32m     81\u001b[0m \u001b[0;34m\u001b[0m\u001b[0m\n\u001b[0;32m---> 82\u001b[0;31m         \u001b[0mret\u001b[0m \u001b[0;34m=\u001b[0m \u001b[0mfut\u001b[0m\u001b[0;34m.\u001b[0m\u001b[0mresult\u001b[0m\u001b[0;34m(\u001b[0m\u001b[0;34m)\u001b[0m\u001b[0;34m\u001b[0m\u001b[0;34m\u001b[0m\u001b[0m\n\u001b[0m\u001b[1;32m     83\u001b[0m         \u001b[0mend_time\u001b[0m \u001b[0;34m=\u001b[0m \u001b[0mdatetime\u001b[0m\u001b[0;34m.\u001b[0m\u001b[0mdatetime\u001b[0m\u001b[0;34m.\u001b[0m\u001b[0mnow\u001b[0m\u001b[0;34m(\u001b[0m\u001b[0;34m)\u001b[0m\u001b[0;34m\u001b[0m\u001b[0;34m\u001b[0m\u001b[0m\n\u001b[1;32m     84\u001b[0m         \u001b[0mdiff\u001b[0m \u001b[0;34m=\u001b[0m \u001b[0mend_time\u001b[0m \u001b[0;34m-\u001b[0m \u001b[0mstart_time\u001b[0m\u001b[0;34m\u001b[0m\u001b[0;34m\u001b[0m\u001b[0m\n",
      "\u001b[0;32m/usr/lib64/python3.6/concurrent/futures/_base.py\u001b[0m in \u001b[0;36mresult\u001b[0;34m(self, timeout)\u001b[0m\n\u001b[1;32m    423\u001b[0m                 \u001b[0;32mraise\u001b[0m \u001b[0mCancelledError\u001b[0m\u001b[0;34m(\u001b[0m\u001b[0;34m)\u001b[0m\u001b[0;34m\u001b[0m\u001b[0;34m\u001b[0m\u001b[0m\n\u001b[1;32m    424\u001b[0m             \u001b[0;32melif\u001b[0m \u001b[0mself\u001b[0m\u001b[0;34m.\u001b[0m\u001b[0m_state\u001b[0m \u001b[0;34m==\u001b[0m \u001b[0mFINISHED\u001b[0m\u001b[0;34m:\u001b[0m\u001b[0;34m\u001b[0m\u001b[0;34m\u001b[0m\u001b[0m\n\u001b[0;32m--> 425\u001b[0;31m                 \u001b[0;32mreturn\u001b[0m \u001b[0mself\u001b[0m\u001b[0;34m.\u001b[0m\u001b[0m__get_result\u001b[0m\u001b[0;34m(\u001b[0m\u001b[0;34m)\u001b[0m\u001b[0;34m\u001b[0m\u001b[0;34m\u001b[0m\u001b[0m\n\u001b[0m\u001b[1;32m    426\u001b[0m \u001b[0;34m\u001b[0m\u001b[0m\n\u001b[1;32m    427\u001b[0m             \u001b[0mself\u001b[0m\u001b[0;34m.\u001b[0m\u001b[0m_condition\u001b[0m\u001b[0;34m.\u001b[0m\u001b[0mwait\u001b[0m\u001b[0;34m(\u001b[0m\u001b[0mtimeout\u001b[0m\u001b[0;34m)\u001b[0m\u001b[0;34m\u001b[0m\u001b[0;34m\u001b[0m\u001b[0m\n",
      "\u001b[0;32m/usr/lib64/python3.6/concurrent/futures/_base.py\u001b[0m in \u001b[0;36m__get_result\u001b[0;34m(self)\u001b[0m\n\u001b[1;32m    382\u001b[0m     \u001b[0;32mdef\u001b[0m \u001b[0m__get_result\u001b[0m\u001b[0;34m(\u001b[0m\u001b[0mself\u001b[0m\u001b[0;34m)\u001b[0m\u001b[0;34m:\u001b[0m\u001b[0;34m\u001b[0m\u001b[0;34m\u001b[0m\u001b[0m\n\u001b[1;32m    383\u001b[0m         \u001b[0;32mif\u001b[0m \u001b[0mself\u001b[0m\u001b[0;34m.\u001b[0m\u001b[0m_exception\u001b[0m\u001b[0;34m:\u001b[0m\u001b[0;34m\u001b[0m\u001b[0;34m\u001b[0m\u001b[0m\n\u001b[0;32m--> 384\u001b[0;31m             \u001b[0;32mraise\u001b[0m \u001b[0mself\u001b[0m\u001b[0;34m.\u001b[0m\u001b[0m_exception\u001b[0m\u001b[0;34m\u001b[0m\u001b[0;34m\u001b[0m\u001b[0m\n\u001b[0m\u001b[1;32m    385\u001b[0m         \u001b[0;32melse\u001b[0m\u001b[0;34m:\u001b[0m\u001b[0;34m\u001b[0m\u001b[0;34m\u001b[0m\u001b[0m\n\u001b[1;32m    386\u001b[0m             \u001b[0;32mreturn\u001b[0m \u001b[0mself\u001b[0m\u001b[0;34m.\u001b[0m\u001b[0m_result\u001b[0m\u001b[0;34m\u001b[0m\u001b[0;34m\u001b[0m\u001b[0m\n",
      "\u001b[0;32m/usr/local/lib/python3.6/site-packages/optibook/exchange_client.py\u001b[0m in \u001b[0;36minsert_order\u001b[0;34m(self, instrument_id, price, volume, side, order_type)\u001b[0m\n\u001b[1;32m    301\u001b[0m         \u001b[0;32massert\u001b[0m \u001b[0mside\u001b[0m \u001b[0;32min\u001b[0m \u001b[0mALL_SIDES\u001b[0m\u001b[0;34m,\u001b[0m \u001b[0;34mf\"side must be one of {ALL_SIDES}\"\u001b[0m\u001b[0;34m\u001b[0m\u001b[0;34m\u001b[0m\u001b[0m\n\u001b[1;32m    302\u001b[0m         \u001b[0;32massert\u001b[0m \u001b[0morder_type\u001b[0m \u001b[0;32min\u001b[0m \u001b[0mALL_ORDER_TYPES\u001b[0m\u001b[0;34m,\u001b[0m \u001b[0;34mf\"order_type must be one of {ALL_ORDER_TYPES}\"\u001b[0m\u001b[0;34m\u001b[0m\u001b[0;34m\u001b[0m\u001b[0m\n\u001b[0;32m--> 303\u001b[0;31m         \u001b[0mresult\u001b[0m \u001b[0;34m=\u001b[0m \u001b[0mawait\u001b[0m \u001b[0mself\u001b[0m\u001b[0;34m.\u001b[0m\u001b[0m_exec\u001b[0m\u001b[0;34m.\u001b[0m\u001b[0minsertOrder\u001b[0m\u001b[0;34m(\u001b[0m\u001b[0minstrument_id\u001b[0m\u001b[0;34m,\u001b[0m \u001b[0mprice\u001b[0m\u001b[0;34m,\u001b[0m \u001b[0mvolume\u001b[0m\u001b[0;34m,\u001b[0m \u001b[0mside\u001b[0m\u001b[0;34m,\u001b[0m \u001b[0morder_type\u001b[0m\u001b[0;34m)\u001b[0m\u001b[0;34m.\u001b[0m\u001b[0ma_wait\u001b[0m\u001b[0;34m(\u001b[0m\u001b[0;34m)\u001b[0m\u001b[0;34m\u001b[0m\u001b[0;34m\u001b[0m\u001b[0m\n\u001b[0m\u001b[1;32m    304\u001b[0m         \u001b[0;32mif\u001b[0m \u001b[0;32mnot\u001b[0m \u001b[0mresult\u001b[0m\u001b[0;34m.\u001b[0m\u001b[0msuccess\u001b[0m\u001b[0;34m:\u001b[0m\u001b[0;34m\u001b[0m\u001b[0;34m\u001b[0m\u001b[0m\n\u001b[1;32m    305\u001b[0m             \u001b[0mlogger\u001b[0m\u001b[0;34m.\u001b[0m\u001b[0mwarning\u001b[0m\u001b[0;34m(\u001b[0m\u001b[0;34mf'order insert failed with reason: {result.errorReason}'\u001b[0m\u001b[0;34m)\u001b[0m\u001b[0;34m\u001b[0m\u001b[0;34m\u001b[0m\u001b[0m\n",
      "\u001b[0;32m/usr/local/lib64/python3.6/site-packages/capnp/lib/capnp.pyx\u001b[0m in \u001b[0;36mcapnp.lib.capnp._DynamicCapabilityClient._send\u001b[0;34m()\u001b[0m\n",
      "\u001b[0;32m/usr/local/lib64/python3.6/site-packages/capnp/lib/capnp.pyx\u001b[0m in \u001b[0;36mcapnp.lib.capnp._DynamicCapabilityClient._send_helper\u001b[0;34m()\u001b[0m\n",
      "\u001b[0;32m/usr/local/lib64/python3.6/site-packages/capnp/lib/capnp.pyx\u001b[0m in \u001b[0;36mcapnp.lib.capnp._DynamicCapabilityClient._set_fields\u001b[0;34m()\u001b[0m\n",
      "\u001b[0;32m/usr/local/lib64/python3.6/site-packages/capnp/lib/capnp.pyx\u001b[0m in \u001b[0;36mcapnp.lib.capnp._setDynamicField\u001b[0;34m()\u001b[0m\n",
      "\u001b[0;31mKjException\u001b[0m: capnp/dynamic.c++:1699: failed: expected value >= 0 && T(value) == value; Value out-of-range for requested type.; value = -1\nstack: 7fdae1c672b8 7fdae1c67c3e 7fdae1c6947a 7fdae1b3824b 7fdae1b3a05b 7fdae1b49481 7fdae1acf111 7fdb03cea71d 7fdb03cae0a2 7fdb03deb752 7fdb03cae29f 7fdb03d54a1b 7fdb03d492c6 7fdb03cbee4e 7fdaf6823cba 7fdaf6824a71 7fdb03cae0a2 7fdb03d4ae68 7fdb03d54569 7fdb03d54992 7fdb03d492c6 7fdb03d54569 7fdb03d54992 7fdb03d492c6 7fdb03d54569 7fdb03d54992 7fdb03d492c6 7fdb03d54569 7fdb03d54992 7fdb03d492c6 7fdb03d55b01"
     ]
    }
   ],
   "source": [
    "def buy_a():\n",
    "    ask_price_a = exchange.get_last_price_book(stock_a_id).asks[0].price\n",
    "    bid_price_b = exchange.get_last_price_book(stock_b_id).bids[0].price\n",
    "    ask_volume_a = exchange.get_last_price_book(stock_a_id).asks[0].volume\n",
    "    bid_volume_b = exchange.get_last_price_book(stock_b_id).bids[0].volume\n",
    "    \n",
    "    if ask_price_a < bid_price_b:\n",
    "        ## buy A, sell B\n",
    "        min_vol = min(bid_volume_b, ask_volume_a, 20)\n",
    "        exchange.insert_order(stock_a_id, price=bid_price_b, volume=min_vol, side='ask', order_type='ioc')\n",
    "        exchange.insert_order(stock_b_id, price=ask_price_a, volume=min_vol, side='bid', order_type='ioc')\n",
    "        \n",
    "def sell_a():\n",
    "    ask_price_b = exchange.get_last_price_book(stock_b_id).asks[0].price\n",
    "    bid_price_a = exchange.get_last_price_book(stock_a_id).bids[0].price\n",
    "    bid_volume_a = exchange.get_last_price_book(stock_a_id).bids[0].volume\n",
    "    ask_volume_b = exchange.get_last_price_book(stock_b_id).asks[0].volume\n",
    "    \n",
    "    if ask_price_b < bid_price_a:\n",
    "        ## sell A, buy B\n",
    "        min_vol = min(bid_volume_a, ask_volume_b, 20)\n",
    "        exchange.insert_order(stock_a_id, price=bid_price_a, volume=min_vol, side='ask', order_type='ioc')\n",
    "        exchange.insert_order(stock_b_id, price=ask_price_b, volume=min_vol, side='bid', order_type='ioc')\n",
    "        \n",
    "while True:\n",
    "    buy_a()\n",
    "    sell_a()\n",
    "    while exchange.get_positions()[stock_a_id] != 0:\n",
    "        if exchange.get_positions()[stock_a_id] > 0:\n",
    "            if exchange.get_last_price_book(stock_a_id).bids[0].price == exchange.get_last_price_book(stock_b_id).asks[0].price:\n",
    "                exchange.insert_order(stock_a_id, price=exchange.get_last_price_book(stock_a_id).bids[0].price, volume=exchange.get_positions()[stock_a_id], side='ask', order_type='ioc')\n",
    "                exchange.insert_order(stock_b_id, price=exchange.get_last_price_book(stock_b_id).asks[0].price, volume=exchange.get_positions()[stock_a_id], side='bid', order_type='ioc')\n",
    "        \n",
    "        if exchange.get_positions()[stock_a_id] < 0:\n",
    "            if exchange.get_last_price_book(stock_a_id).asks[0].price == exchange.get_last_price_book(stock_b_id).bids[0].price:\n",
    "                exchange.insert_order(stock_a_id, price=exchange.get_last_price_book(stock_b_id).bids[0].price, volume=exchange.get_positions()[stock_a_id], side='ask', order_type='ioc')\n",
    "                exchange.insert_order(stock_b_id, price=exchange.get_last_price_book(stock_a_id).asks[0].price, volume=exchange.get_positions()[stock_a_id], side='bid', order_type='ioc')\n"
   ]
  },
  {
   "cell_type": "code",
   "execution_count": 164,
   "id": "7ab4fbcd-f50f-4eb0-bd7e-ba3f6697410e",
   "metadata": {},
   "outputs": [
    {
     "ename": "KeyboardInterrupt",
     "evalue": "",
     "output_type": "error",
     "traceback": [
      "\u001b[0;31m---------------------------------------------------------------------------\u001b[0m",
      "\u001b[0;31mKeyboardInterrupt\u001b[0m                         Traceback (most recent call last)",
      "\u001b[0;32m<ipython-input-164-3ba5d142b3ed>\u001b[0m in \u001b[0;36m<module>\u001b[0;34m\u001b[0m\n\u001b[1;32m     27\u001b[0m         \u001b[0msell_a\u001b[0m\u001b[0;34m(\u001b[0m\u001b[0;34m)\u001b[0m\u001b[0;34m\u001b[0m\u001b[0;34m\u001b[0m\u001b[0m\n\u001b[1;32m     28\u001b[0m     \u001b[0;32melif\u001b[0m \u001b[0mexchange\u001b[0m\u001b[0;34m.\u001b[0m\u001b[0mget_positions\u001b[0m\u001b[0;34m(\u001b[0m\u001b[0;34m)\u001b[0m\u001b[0;34m[\u001b[0m\u001b[0mstock_a_id\u001b[0m\u001b[0;34m]\u001b[0m \u001b[0;34m<\u001b[0m \u001b[0mexchange\u001b[0m\u001b[0;34m.\u001b[0m\u001b[0mget_positions\u001b[0m\u001b[0;34m(\u001b[0m\u001b[0;34m)\u001b[0m\u001b[0;34m[\u001b[0m\u001b[0mstock_b_id\u001b[0m\u001b[0;34m]\u001b[0m\u001b[0;34m:\u001b[0m\u001b[0;34m\u001b[0m\u001b[0;34m\u001b[0m\u001b[0m\n\u001b[0;32m---> 29\u001b[0;31m         \u001b[0mbuy_a\u001b[0m\u001b[0;34m(\u001b[0m\u001b[0;34m)\u001b[0m\u001b[0;34m\u001b[0m\u001b[0;34m\u001b[0m\u001b[0m\n\u001b[0m\u001b[1;32m     30\u001b[0m     \u001b[0;32melse\u001b[0m\u001b[0;34m:\u001b[0m\u001b[0;34m\u001b[0m\u001b[0;34m\u001b[0m\u001b[0m\n\u001b[1;32m     31\u001b[0m         \u001b[0msell_a\u001b[0m\u001b[0;34m(\u001b[0m\u001b[0;34m)\u001b[0m\u001b[0;34m\u001b[0m\u001b[0;34m\u001b[0m\u001b[0m\n",
      "\u001b[0;32m<ipython-input-164-3ba5d142b3ed>\u001b[0m in \u001b[0;36mbuy_a\u001b[0;34m()\u001b[0m\n\u001b[1;32m      1\u001b[0m \u001b[0;32mdef\u001b[0m \u001b[0mbuy_a\u001b[0m\u001b[0;34m(\u001b[0m\u001b[0;34m)\u001b[0m\u001b[0;34m:\u001b[0m\u001b[0;34m\u001b[0m\u001b[0;34m\u001b[0m\u001b[0m\n\u001b[1;32m      2\u001b[0m     \u001b[0mask_price_a\u001b[0m \u001b[0;34m=\u001b[0m \u001b[0mexchange\u001b[0m\u001b[0;34m.\u001b[0m\u001b[0mget_last_price_book\u001b[0m\u001b[0;34m(\u001b[0m\u001b[0mstock_a_id\u001b[0m\u001b[0;34m)\u001b[0m\u001b[0;34m.\u001b[0m\u001b[0masks\u001b[0m\u001b[0;34m[\u001b[0m\u001b[0;36m0\u001b[0m\u001b[0;34m]\u001b[0m\u001b[0;34m.\u001b[0m\u001b[0mprice\u001b[0m\u001b[0;34m\u001b[0m\u001b[0;34m\u001b[0m\u001b[0m\n\u001b[0;32m----> 3\u001b[0;31m     \u001b[0mbid_price_b\u001b[0m \u001b[0;34m=\u001b[0m \u001b[0mexchange\u001b[0m\u001b[0;34m.\u001b[0m\u001b[0mget_last_price_book\u001b[0m\u001b[0;34m(\u001b[0m\u001b[0mstock_b_id\u001b[0m\u001b[0;34m)\u001b[0m\u001b[0;34m.\u001b[0m\u001b[0mbids\u001b[0m\u001b[0;34m[\u001b[0m\u001b[0;36m0\u001b[0m\u001b[0;34m]\u001b[0m\u001b[0;34m.\u001b[0m\u001b[0mprice\u001b[0m\u001b[0;34m\u001b[0m\u001b[0;34m\u001b[0m\u001b[0m\n\u001b[0m\u001b[1;32m      4\u001b[0m     \u001b[0mask_volume_a\u001b[0m \u001b[0;34m=\u001b[0m \u001b[0mexchange\u001b[0m\u001b[0;34m.\u001b[0m\u001b[0mget_last_price_book\u001b[0m\u001b[0;34m(\u001b[0m\u001b[0mstock_a_id\u001b[0m\u001b[0;34m)\u001b[0m\u001b[0;34m.\u001b[0m\u001b[0masks\u001b[0m\u001b[0;34m[\u001b[0m\u001b[0;36m0\u001b[0m\u001b[0;34m]\u001b[0m\u001b[0;34m.\u001b[0m\u001b[0mvolume\u001b[0m\u001b[0;34m\u001b[0m\u001b[0;34m\u001b[0m\u001b[0m\n\u001b[1;32m      5\u001b[0m     \u001b[0mbid_volume_b\u001b[0m \u001b[0;34m=\u001b[0m \u001b[0mexchange\u001b[0m\u001b[0;34m.\u001b[0m\u001b[0mget_last_price_book\u001b[0m\u001b[0;34m(\u001b[0m\u001b[0mstock_b_id\u001b[0m\u001b[0;34m)\u001b[0m\u001b[0;34m.\u001b[0m\u001b[0mbids\u001b[0m\u001b[0;34m[\u001b[0m\u001b[0;36m0\u001b[0m\u001b[0;34m]\u001b[0m\u001b[0;34m.\u001b[0m\u001b[0mvolume\u001b[0m\u001b[0;34m\u001b[0m\u001b[0;34m\u001b[0m\u001b[0m\n",
      "\u001b[0;32m/usr/local/lib/python3.6/site-packages/optibook/synchronous_client.py\u001b[0m in \u001b[0;36mget_last_price_book\u001b[0;34m(self, instrument_id)\u001b[0m\n\u001b[1;32m    292\u001b[0m              \u001b[0mReturns\u001b[0m \u001b[0mthe\u001b[0m \u001b[0mlast\u001b[0m \u001b[0mreceived\u001b[0m \u001b[0mlimit\u001b[0m \u001b[0morder\u001b[0m \u001b[0mbook\u001b[0m \u001b[0mstate\u001b[0m \u001b[0;32mfor\u001b[0m \u001b[0man\u001b[0m \u001b[0minstrument\u001b[0m\u001b[0;34m.\u001b[0m\u001b[0;34m\u001b[0m\u001b[0;34m\u001b[0m\u001b[0m\n\u001b[1;32m    293\u001b[0m         \"\"\"\n\u001b[0;32m--> 294\u001b[0;31m         \u001b[0;32massert\u001b[0m \u001b[0mself\u001b[0m\u001b[0;34m.\u001b[0m\u001b[0mis_connected\u001b[0m\u001b[0;34m(\u001b[0m\u001b[0;34m)\u001b[0m\u001b[0;34m,\u001b[0m \u001b[0;34m\"Cannot call function until connected. Call connect() first\"\u001b[0m\u001b[0;34m\u001b[0m\u001b[0;34m\u001b[0m\u001b[0m\n\u001b[0m\u001b[1;32m    295\u001b[0m         \u001b[0;32mreturn\u001b[0m \u001b[0mself\u001b[0m\u001b[0;34m.\u001b[0m\u001b[0m_i\u001b[0m\u001b[0;34m.\u001b[0m\u001b[0mget_last_price_book\u001b[0m\u001b[0;34m(\u001b[0m\u001b[0minstrument_id\u001b[0m\u001b[0;34m)\u001b[0m\u001b[0;34m\u001b[0m\u001b[0;34m\u001b[0m\u001b[0m\n\u001b[1;32m    296\u001b[0m \u001b[0;34m\u001b[0m\u001b[0m\n",
      "\u001b[0;32m/usr/local/lib/python3.6/site-packages/optibook/synchronous_client.py\u001b[0m in \u001b[0;36mis_connected\u001b[0;34m(self)\u001b[0m\n\u001b[1;32m     62\u001b[0m             \u001b[0;32mTrue\u001b[0m \u001b[0;32mif\u001b[0m \u001b[0myou\u001b[0m \u001b[0mare\u001b[0m \u001b[0mconnected\u001b[0m\u001b[0;34m,\u001b[0m \u001b[0motherwise\u001b[0m \u001b[0mfalse\u001b[0m\u001b[0;34m.\u001b[0m\u001b[0;34m\u001b[0m\u001b[0;34m\u001b[0m\u001b[0m\n\u001b[1;32m     63\u001b[0m         \"\"\"\n\u001b[0;32m---> 64\u001b[0;31m         \u001b[0;32mreturn\u001b[0m \u001b[0mself\u001b[0m\u001b[0;34m.\u001b[0m\u001b[0m_wrapper\u001b[0m\u001b[0;34m.\u001b[0m\u001b[0mis_connected\u001b[0m\u001b[0;34m(\u001b[0m\u001b[0;34m)\u001b[0m\u001b[0;34m\u001b[0m\u001b[0;34m\u001b[0m\u001b[0m\n\u001b[0m\u001b[1;32m     65\u001b[0m \u001b[0;34m\u001b[0m\u001b[0m\n\u001b[1;32m     66\u001b[0m     \u001b[0;32mdef\u001b[0m \u001b[0mconnect\u001b[0m\u001b[0;34m(\u001b[0m\u001b[0mself\u001b[0m\u001b[0;34m)\u001b[0m \u001b[0;34m->\u001b[0m \u001b[0;32mNone\u001b[0m\u001b[0;34m:\u001b[0m\u001b[0;34m\u001b[0m\u001b[0;34m\u001b[0m\u001b[0m\n",
      "\u001b[0;32m/usr/local/lib/python3.6/site-packages/optibook/synchronous_wrapper.py\u001b[0m in \u001b[0;36mis_connected\u001b[0;34m(self)\u001b[0m\n\u001b[1;32m     26\u001b[0m \u001b[0;34m\u001b[0m\u001b[0m\n\u001b[1;32m     27\u001b[0m     \u001b[0;32mdef\u001b[0m \u001b[0mis_connected\u001b[0m\u001b[0;34m(\u001b[0m\u001b[0mself\u001b[0m\u001b[0;34m)\u001b[0m \u001b[0;34m->\u001b[0m \u001b[0mbool\u001b[0m\u001b[0;34m:\u001b[0m\u001b[0;34m\u001b[0m\u001b[0;34m\u001b[0m\u001b[0m\n\u001b[0;32m---> 28\u001b[0;31m         \u001b[0;32mreturn\u001b[0m \u001b[0mall\u001b[0m\u001b[0;34m(\u001b[0m\u001b[0;34m[\u001b[0m\u001b[0mcl\u001b[0m\u001b[0;34m.\u001b[0m\u001b[0mis_connected\u001b[0m\u001b[0;34m(\u001b[0m\u001b[0;34m)\u001b[0m \u001b[0;32mfor\u001b[0m \u001b[0mcl\u001b[0m \u001b[0;32min\u001b[0m \u001b[0mself\u001b[0m\u001b[0;34m.\u001b[0m\u001b[0m_clients\u001b[0m\u001b[0;34m]\u001b[0m\u001b[0;34m)\u001b[0m \u001b[0;32mand\u001b[0m \u001b[0mself\u001b[0m\u001b[0;34m.\u001b[0m\u001b[0m_loop\u001b[0m\u001b[0;34m.\u001b[0m\u001b[0mis_running\u001b[0m\u001b[0;34m(\u001b[0m\u001b[0;34m)\u001b[0m\u001b[0;34m\u001b[0m\u001b[0;34m\u001b[0m\u001b[0m\n\u001b[0m\u001b[1;32m     29\u001b[0m \u001b[0;34m\u001b[0m\u001b[0m\n\u001b[1;32m     30\u001b[0m     \u001b[0;32mdef\u001b[0m \u001b[0mconnect\u001b[0m\u001b[0;34m(\u001b[0m\u001b[0mself\u001b[0m\u001b[0;34m)\u001b[0m \u001b[0;34m->\u001b[0m \u001b[0;32mNone\u001b[0m\u001b[0;34m:\u001b[0m\u001b[0;34m\u001b[0m\u001b[0;34m\u001b[0m\u001b[0m\n",
      "\u001b[0;32m/usr/local/lib/python3.6/site-packages/optibook/synchronous_wrapper.py\u001b[0m in \u001b[0;36m<listcomp>\u001b[0;34m(.0)\u001b[0m\n\u001b[1;32m     26\u001b[0m \u001b[0;34m\u001b[0m\u001b[0m\n\u001b[1;32m     27\u001b[0m     \u001b[0;32mdef\u001b[0m \u001b[0mis_connected\u001b[0m\u001b[0;34m(\u001b[0m\u001b[0mself\u001b[0m\u001b[0;34m)\u001b[0m \u001b[0;34m->\u001b[0m \u001b[0mbool\u001b[0m\u001b[0;34m:\u001b[0m\u001b[0;34m\u001b[0m\u001b[0;34m\u001b[0m\u001b[0m\n\u001b[0;32m---> 28\u001b[0;31m         \u001b[0;32mreturn\u001b[0m \u001b[0mall\u001b[0m\u001b[0;34m(\u001b[0m\u001b[0;34m[\u001b[0m\u001b[0mcl\u001b[0m\u001b[0;34m.\u001b[0m\u001b[0mis_connected\u001b[0m\u001b[0;34m(\u001b[0m\u001b[0;34m)\u001b[0m \u001b[0;32mfor\u001b[0m \u001b[0mcl\u001b[0m \u001b[0;32min\u001b[0m \u001b[0mself\u001b[0m\u001b[0;34m.\u001b[0m\u001b[0m_clients\u001b[0m\u001b[0;34m]\u001b[0m\u001b[0;34m)\u001b[0m \u001b[0;32mand\u001b[0m \u001b[0mself\u001b[0m\u001b[0;34m.\u001b[0m\u001b[0m_loop\u001b[0m\u001b[0;34m.\u001b[0m\u001b[0mis_running\u001b[0m\u001b[0;34m(\u001b[0m\u001b[0;34m)\u001b[0m\u001b[0;34m\u001b[0m\u001b[0;34m\u001b[0m\u001b[0m\n\u001b[0m\u001b[1;32m     29\u001b[0m \u001b[0;34m\u001b[0m\u001b[0m\n\u001b[1;32m     30\u001b[0m     \u001b[0;32mdef\u001b[0m \u001b[0mconnect\u001b[0m\u001b[0;34m(\u001b[0m\u001b[0mself\u001b[0m\u001b[0;34m)\u001b[0m \u001b[0;34m->\u001b[0m \u001b[0;32mNone\u001b[0m\u001b[0;34m:\u001b[0m\u001b[0;34m\u001b[0m\u001b[0;34m\u001b[0m\u001b[0m\n",
      "\u001b[0;32m/usr/local/lib/python3.6/site-packages/optibook/base_client.py\u001b[0m in \u001b[0;36mis_connected\u001b[0;34m(self)\u001b[0m\n\u001b[1;32m     91\u001b[0m             \u001b[0;32mreturn\u001b[0m \u001b[0;32mFalse\u001b[0m\u001b[0;34m\u001b[0m\u001b[0;34m\u001b[0m\u001b[0m\n\u001b[1;32m     92\u001b[0m         \u001b[0;32mtry\u001b[0m\u001b[0;34m:\u001b[0m\u001b[0;34m\u001b[0m\u001b[0;34m\u001b[0m\u001b[0m\n\u001b[0;32m---> 93\u001b[0;31m             \u001b[0mself\u001b[0m\u001b[0;34m.\u001b[0m\u001b[0m_socket\u001b[0m\u001b[0;34m.\u001b[0m\u001b[0mgetpeername\u001b[0m\u001b[0;34m(\u001b[0m\u001b[0;34m)\u001b[0m\u001b[0;34m\u001b[0m\u001b[0;34m\u001b[0m\u001b[0m\n\u001b[0m\u001b[1;32m     94\u001b[0m         \u001b[0;32mexcept\u001b[0m \u001b[0mOSError\u001b[0m\u001b[0;34m:\u001b[0m\u001b[0;34m\u001b[0m\u001b[0;34m\u001b[0m\u001b[0m\n\u001b[1;32m     95\u001b[0m             \u001b[0;32mreturn\u001b[0m \u001b[0;32mFalse\u001b[0m\u001b[0;34m\u001b[0m\u001b[0;34m\u001b[0m\u001b[0m\n",
      "\u001b[0;31mKeyboardInterrupt\u001b[0m: "
     ]
    }
   ],
   "source": [
    "def buy_a():\n",
    "    ask_price_a = exchange.get_last_price_book(stock_a_id).asks[0].price\n",
    "    bid_price_b = exchange.get_last_price_book(stock_b_id).bids[0].price\n",
    "    ask_volume_a = exchange.get_last_price_book(stock_a_id).asks[0].volume\n",
    "    bid_volume_b = exchange.get_last_price_book(stock_b_id).bids[0].volume\n",
    "    \n",
    "    if ask_price_a < bid_price_b:\n",
    "        ## buy A, sell B\n",
    "        min_vol = min(bid_volume_b, ask_volume_a, 5)\n",
    "        exchange.insert_order(stock_a_id, price=bid_price_b, volume=min_vol, side='ask', order_type='ioc')\n",
    "        exchange.insert_order(stock_b_id, price=ask_price_a, volume=min_vol, side='bid', order_type='ioc')\n",
    "        \n",
    "def sell_a():\n",
    "    ask_price_b = exchange.get_last_price_book(stock_b_id).asks[0].price\n",
    "    bid_price_a = exchange.get_last_price_book(stock_a_id).bids[0].price\n",
    "    bid_volume_a = exchange.get_last_price_book(stock_a_id).bids[0].volume\n",
    "    ask_volume_b = exchange.get_last_price_book(stock_b_id).asks[0].volume\n",
    "    \n",
    "    if ask_price_b < bid_price_a:\n",
    "        ## sell A, buy B\n",
    "        min_vol = min(bid_volume_a, ask_volume_b, 5)\n",
    "        exchange.insert_order(stock_a_id, price=bid_price_a, volume=min_vol, side='ask', order_type='ioc')\n",
    "        exchange.insert_order(stock_b_id, price=ask_price_b, volume=min_vol, side='bid', order_type='ioc')\n",
    "        \n",
    "while True:\n",
    "    if exchange.get_positions()[stock_a_id] > exchange.get_positions()[stock_b_id]:\n",
    "        sell_a()\n",
    "    elif exchange.get_positions()[stock_a_id] < exchange.get_positions()[stock_b_id]:\n",
    "        buy_a()\n",
    "    else:\n",
    "        sell_a()\n",
    "        buy_a()\n"
   ]
  },
  {
   "cell_type": "code",
   "execution_count": null,
   "id": "6a21978e-5828-464c-b2b6-ebca0382fcca",
   "metadata": {},
   "outputs": [],
   "source": []
  }
 ],
 "metadata": {
  "kernelspec": {
   "display_name": "Python 3",
   "language": "python",
   "name": "python3"
  },
  "language_info": {
   "codemirror_mode": {
    "name": "ipython",
    "version": 3
   },
   "file_extension": ".py",
   "mimetype": "text/x-python",
   "name": "python",
   "nbconvert_exporter": "python",
   "pygments_lexer": "ipython3",
   "version": "3.6.12"
  }
 },
 "nbformat": 4,
 "nbformat_minor": 5
}
